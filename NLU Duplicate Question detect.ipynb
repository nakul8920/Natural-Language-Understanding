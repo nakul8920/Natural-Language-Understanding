{
 "cells": [
  {
   "cell_type": "code",
   "execution_count": 2,
   "id": "52c7b0a7-4e80-4017-820c-4e609ab6f8b6",
   "metadata": {
    "id": "52c7b0a7-4e80-4017-820c-4e609ab6f8b6"
   },
   "outputs": [],
   "source": [
    "import numpy as np\n",
    "import pandas as pd\n",
    "import seaborn as sns\n",
    "import matplotlib.pyplot as plt"
   ]
  },
  {
   "cell_type": "code",
   "execution_count": 11,
   "id": "20dc62af-79f1-47d6-989d-e61fe4ed5cdb",
   "metadata": {
    "id": "20dc62af-79f1-47d6-989d-e61fe4ed5cdb",
    "outputId": "52fd67fa-451a-42df-874c-49269d7182df"
   },
   "outputs": [
    {
     "data": {
      "text/plain": [
       "(2000, 6)"
      ]
     },
     "execution_count": 11,
     "metadata": {},
     "output_type": "execute_result"
    }
   ],
   "source": [
    "df = pd.read_csv(\"quora_style_dataset_2000.csv\")\n",
    "df.shape"
   ]
  },
  {
   "cell_type": "code",
   "execution_count": 12,
   "id": "4938ab42-3415-4020-9900-aa06d2bbabad",
   "metadata": {
    "id": "4938ab42-3415-4020-9900-aa06d2bbabad",
    "outputId": "9ed289e5-51c3-451f-d36a-ece7fd2734b4"
   },
   "outputs": [
    {
     "data": {
      "text/html": [
       "<div>\n",
       "<style scoped>\n",
       "    .dataframe tbody tr th:only-of-type {\n",
       "        vertical-align: middle;\n",
       "    }\n",
       "\n",
       "    .dataframe tbody tr th {\n",
       "        vertical-align: top;\n",
       "    }\n",
       "\n",
       "    .dataframe thead th {\n",
       "        text-align: right;\n",
       "    }\n",
       "</style>\n",
       "<table border=\"1\" class=\"dataframe\">\n",
       "  <thead>\n",
       "    <tr style=\"text-align: right;\">\n",
       "      <th></th>\n",
       "      <th>id</th>\n",
       "      <th>qid1</th>\n",
       "      <th>qid2</th>\n",
       "      <th>question1</th>\n",
       "      <th>question2</th>\n",
       "      <th>is_duplicate</th>\n",
       "    </tr>\n",
       "  </thead>\n",
       "  <tbody>\n",
       "    <tr>\n",
       "      <th>0</th>\n",
       "      <td>186300</td>\n",
       "      <td>279621</td>\n",
       "      <td>291575</td>\n",
       "      <td>Will there be a war between India and Pakistan?</td>\n",
       "      <td>Which is better: Java or Python?</td>\n",
       "      <td>0</td>\n",
       "    </tr>\n",
       "    <tr>\n",
       "      <th>1</th>\n",
       "      <td>186301</td>\n",
       "      <td>139681</td>\n",
       "      <td>102009</td>\n",
       "      <td>How do I remove water from ear?</td>\n",
       "      <td>What is the future of data science?</td>\n",
       "      <td>0</td>\n",
       "    </tr>\n",
       "    <tr>\n",
       "      <th>2</th>\n",
       "      <td>186302</td>\n",
       "      <td>115817</td>\n",
       "      <td>164934</td>\n",
       "      <td>What is GST and how does it benefit common peo...</td>\n",
       "      <td>How can I get venture capital for my startup?</td>\n",
       "      <td>0</td>\n",
       "    </tr>\n",
       "    <tr>\n",
       "      <th>3</th>\n",
       "      <td>186303</td>\n",
       "      <td>278464</td>\n",
       "      <td>236355</td>\n",
       "      <td>What are the differences between Android and iOS?</td>\n",
       "      <td>What are the differences between Android and iOS?</td>\n",
       "      <td>1</td>\n",
       "    </tr>\n",
       "    <tr>\n",
       "      <th>4</th>\n",
       "      <td>186304</td>\n",
       "      <td>243913</td>\n",
       "      <td>117538</td>\n",
       "      <td>What are the differences between Android and iOS?</td>\n",
       "      <td>How do you sleep well?</td>\n",
       "      <td>0</td>\n",
       "    </tr>\n",
       "  </tbody>\n",
       "</table>\n",
       "</div>"
      ],
      "text/plain": [
       "       id    qid1    qid2                                          question1  \\\n",
       "0  186300  279621  291575    Will there be a war between India and Pakistan?   \n",
       "1  186301  139681  102009                    How do I remove water from ear?   \n",
       "2  186302  115817  164934  What is GST and how does it benefit common peo...   \n",
       "3  186303  278464  236355  What are the differences between Android and iOS?   \n",
       "4  186304  243913  117538  What are the differences between Android and iOS?   \n",
       "\n",
       "                                           question2  is_duplicate  \n",
       "0                   Which is better: Java or Python?             0  \n",
       "1                What is the future of data science?             0  \n",
       "2      How can I get venture capital for my startup?             0  \n",
       "3  What are the differences between Android and iOS?             1  \n",
       "4                             How do you sleep well?             0  "
      ]
     },
     "execution_count": 12,
     "metadata": {},
     "output_type": "execute_result"
    }
   ],
   "source": [
    "df.head()"
   ]
  },
  {
   "cell_type": "code",
   "execution_count": 13,
   "id": "e3a92fda-ce86-4a14-afda-8152fc9293a6",
   "metadata": {
    "id": "e3a92fda-ce86-4a14-afda-8152fc9293a6",
    "outputId": "1a304899-4c21-4a35-8eb8-5a6d63aba9e1"
   },
   "outputs": [
    {
     "data": {
      "text/html": [
       "<div>\n",
       "<style scoped>\n",
       "    .dataframe tbody tr th:only-of-type {\n",
       "        vertical-align: middle;\n",
       "    }\n",
       "\n",
       "    .dataframe tbody tr th {\n",
       "        vertical-align: top;\n",
       "    }\n",
       "\n",
       "    .dataframe thead th {\n",
       "        text-align: right;\n",
       "    }\n",
       "</style>\n",
       "<table border=\"1\" class=\"dataframe\">\n",
       "  <thead>\n",
       "    <tr style=\"text-align: right;\">\n",
       "      <th></th>\n",
       "      <th>id</th>\n",
       "      <th>qid1</th>\n",
       "      <th>qid2</th>\n",
       "      <th>question1</th>\n",
       "      <th>question2</th>\n",
       "      <th>is_duplicate</th>\n",
       "    </tr>\n",
       "  </thead>\n",
       "  <tbody>\n",
       "    <tr>\n",
       "      <th>671</th>\n",
       "      <td>186971</td>\n",
       "      <td>157636</td>\n",
       "      <td>283123</td>\n",
       "      <td>Will there be a war between India and Pakistan?</td>\n",
       "      <td>What should I do to overcome anxiety?</td>\n",
       "      <td>0</td>\n",
       "    </tr>\n",
       "    <tr>\n",
       "      <th>885</th>\n",
       "      <td>187185</td>\n",
       "      <td>163446</td>\n",
       "      <td>154010</td>\n",
       "      <td>How can I motivate myself to achieve more?</td>\n",
       "      <td>How do I motivate myself to achieve more?</td>\n",
       "      <td>1</td>\n",
       "    </tr>\n",
       "    <tr>\n",
       "      <th>690</th>\n",
       "      <td>186990</td>\n",
       "      <td>243869</td>\n",
       "      <td>225248</td>\n",
       "      <td>What are the best books on modern philosophy?</td>\n",
       "      <td>How do you sleep well?</td>\n",
       "      <td>0</td>\n",
       "    </tr>\n",
       "    <tr>\n",
       "      <th>626</th>\n",
       "      <td>186926</td>\n",
       "      <td>119516</td>\n",
       "      <td>275249</td>\n",
       "      <td>How do you sleep well?</td>\n",
       "      <td>How do you sleep well?</td>\n",
       "      <td>1</td>\n",
       "    </tr>\n",
       "    <tr>\n",
       "      <th>146</th>\n",
       "      <td>186446</td>\n",
       "      <td>272332</td>\n",
       "      <td>292721</td>\n",
       "      <td>How can I motivate myself to achieve more?</td>\n",
       "      <td>How can I motivate myself to achieve more?</td>\n",
       "      <td>1</td>\n",
       "    </tr>\n",
       "    <tr>\n",
       "      <th>316</th>\n",
       "      <td>186616</td>\n",
       "      <td>123767</td>\n",
       "      <td>199059</td>\n",
       "      <td>Which is better: Java or Python?</td>\n",
       "      <td>Which is better: Java or Python?</td>\n",
       "      <td>1</td>\n",
       "    </tr>\n",
       "    <tr>\n",
       "      <th>1728</th>\n",
       "      <td>188028</td>\n",
       "      <td>195200</td>\n",
       "      <td>132104</td>\n",
       "      <td>How can I motivate myself to achieve more?</td>\n",
       "      <td>How can I motivate myself to achieve more?</td>\n",
       "      <td>1</td>\n",
       "    </tr>\n",
       "    <tr>\n",
       "      <th>191</th>\n",
       "      <td>186491</td>\n",
       "      <td>298468</td>\n",
       "      <td>154293</td>\n",
       "      <td>What are the differences between Android and iOS?</td>\n",
       "      <td>How do I remove water from ear?</td>\n",
       "      <td>0</td>\n",
       "    </tr>\n",
       "    <tr>\n",
       "      <th>1041</th>\n",
       "      <td>187341</td>\n",
       "      <td>180135</td>\n",
       "      <td>152254</td>\n",
       "      <td>What are the differences between Android and iOS?</td>\n",
       "      <td>What are the differences between Android and iOS?</td>\n",
       "      <td>1</td>\n",
       "    </tr>\n",
       "    <tr>\n",
       "      <th>1168</th>\n",
       "      <td>187468</td>\n",
       "      <td>111744</td>\n",
       "      <td>149235</td>\n",
       "      <td>What is GST and how does it benefit common peo...</td>\n",
       "      <td>What's GST and how does it benefit common people?</td>\n",
       "      <td>1</td>\n",
       "    </tr>\n",
       "  </tbody>\n",
       "</table>\n",
       "</div>"
      ],
      "text/plain": [
       "          id    qid1    qid2  \\\n",
       "671   186971  157636  283123   \n",
       "885   187185  163446  154010   \n",
       "690   186990  243869  225248   \n",
       "626   186926  119516  275249   \n",
       "146   186446  272332  292721   \n",
       "316   186616  123767  199059   \n",
       "1728  188028  195200  132104   \n",
       "191   186491  298468  154293   \n",
       "1041  187341  180135  152254   \n",
       "1168  187468  111744  149235   \n",
       "\n",
       "                                              question1  \\\n",
       "671     Will there be a war between India and Pakistan?   \n",
       "885          How can I motivate myself to achieve more?   \n",
       "690       What are the best books on modern philosophy?   \n",
       "626                              How do you sleep well?   \n",
       "146          How can I motivate myself to achieve more?   \n",
       "316                    Which is better: Java or Python?   \n",
       "1728         How can I motivate myself to achieve more?   \n",
       "191   What are the differences between Android and iOS?   \n",
       "1041  What are the differences between Android and iOS?   \n",
       "1168  What is GST and how does it benefit common peo...   \n",
       "\n",
       "                                              question2  is_duplicate  \n",
       "671               What should I do to overcome anxiety?             0  \n",
       "885           How do I motivate myself to achieve more?             1  \n",
       "690                              How do you sleep well?             0  \n",
       "626                              How do you sleep well?             1  \n",
       "146          How can I motivate myself to achieve more?             1  \n",
       "316                    Which is better: Java or Python?             1  \n",
       "1728         How can I motivate myself to achieve more?             1  \n",
       "191                     How do I remove water from ear?             0  \n",
       "1041  What are the differences between Android and iOS?             1  \n",
       "1168  What's GST and how does it benefit common people?             1  "
      ]
     },
     "execution_count": 13,
     "metadata": {},
     "output_type": "execute_result"
    }
   ],
   "source": [
    "df.sample(10)"
   ]
  },
  {
   "cell_type": "code",
   "execution_count": 14,
   "id": "836d74b0-adbb-41aa-8414-4e33ea829b28",
   "metadata": {
    "id": "836d74b0-adbb-41aa-8414-4e33ea829b28",
    "outputId": "26716648-1dd6-4e7d-f111-995de9bc985a"
   },
   "outputs": [
    {
     "name": "stdout",
     "output_type": "stream",
     "text": [
      "<class 'pandas.core.frame.DataFrame'>\n",
      "RangeIndex: 2000 entries, 0 to 1999\n",
      "Data columns (total 6 columns):\n",
      " #   Column        Non-Null Count  Dtype \n",
      "---  ------        --------------  ----- \n",
      " 0   id            2000 non-null   int64 \n",
      " 1   qid1          2000 non-null   int64 \n",
      " 2   qid2          2000 non-null   int64 \n",
      " 3   question1     2000 non-null   object\n",
      " 4   question2     2000 non-null   object\n",
      " 5   is_duplicate  2000 non-null   int64 \n",
      "dtypes: int64(4), object(2)\n",
      "memory usage: 93.9+ KB\n"
     ]
    }
   ],
   "source": [
    "\n",
    "df.info()"
   ]
  },
  {
   "cell_type": "code",
   "execution_count": 15,
   "id": "e6a3b47f-ef16-4d6e-b609-3a8cbaa85fad",
   "metadata": {
    "id": "e6a3b47f-ef16-4d6e-b609-3a8cbaa85fad",
    "outputId": "af1b6b82-9af8-41bf-ae82-e582725fc8ca"
   },
   "outputs": [
    {
     "data": {
      "text/plain": [
       "id              0\n",
       "qid1            0\n",
       "qid2            0\n",
       "question1       0\n",
       "question2       0\n",
       "is_duplicate    0\n",
       "dtype: int64"
      ]
     },
     "execution_count": 15,
     "metadata": {},
     "output_type": "execute_result"
    }
   ],
   "source": [
    "# missing values\n",
    "df.isnull().sum()"
   ]
  },
  {
   "cell_type": "code",
   "execution_count": 16,
   "id": "cf280a94-2605-400e-ab1e-91355b995709",
   "metadata": {
    "id": "cf280a94-2605-400e-ab1e-91355b995709",
    "outputId": "e7a1ecbe-875b-4970-bd6f-74d95f75ce8e"
   },
   "outputs": [
    {
     "data": {
      "text/plain": [
       "0"
      ]
     },
     "execution_count": 16,
     "metadata": {},
     "output_type": "execute_result"
    }
   ],
   "source": [
    "# duplicate rows\n",
    "df.duplicated().sum()"
   ]
  },
  {
   "cell_type": "code",
   "execution_count": 17,
   "id": "310be69e-38fb-499c-94ac-d15f2c738948",
   "metadata": {
    "id": "310be69e-38fb-499c-94ac-d15f2c738948",
    "outputId": "c8100b31-6f8a-4984-c2f9-03f5a4584f04"
   },
   "outputs": [
    {
     "name": "stdout",
     "output_type": "stream",
     "text": [
      "is_duplicate\n",
      "1    1018\n",
      "0     982\n",
      "Name: count, dtype: int64\n",
      "is_duplicate\n",
      "1    50.9\n",
      "0    49.1\n",
      "Name: count, dtype: float64\n"
     ]
    },
    {
     "data": {
      "text/plain": [
       "<Axes: xlabel='is_duplicate'>"
      ]
     },
     "execution_count": 17,
     "metadata": {},
     "output_type": "execute_result"
    },
    {
     "data": {
      "image/png": "[encoded data removed]",
      "text/plain": [
       "<Figure size 640x480 with 1 Axes>"
      ]
     },
     "metadata": {},
     "output_type": "display_data"
    }
   ],
   "source": [
    "# Distribution of duplicate and non-duplicate questions\n",
    "\n",
    "print(df['is_duplicate'].value_counts())\n",
    "print((df['is_duplicate'].value_counts()/df['is_duplicate'].count())*100)\n",
    "df['is_duplicate'].value_counts().plot(kind='bar')"
   ]
  },
  {
   "cell_type": "code",
   "execution_count": 18,
   "id": "b4bed610-7938-4c18-9b6d-0e687416d435",
   "metadata": {
    "id": "b4bed610-7938-4c18-9b6d-0e687416d435",
    "outputId": "ec9ec1e9-60b7-4c6a-a16d-e9c83e57d07c"
   },
   "outputs": [
    {
     "name": "stdout",
     "output_type": "stream",
     "text": [
      "Number of unique questions 3950\n",
      "Number of questions getting repeated 49\n"
     ]
    }
   ],
   "source": [
    "# Repeated questions\n",
    "\n",
    "qid = pd.Series(df['qid1'].tolist() + df['qid2'].tolist())\n",
    "print('Number of unique questions',np.unique(qid).shape[0])\n",
    "x = qid.value_counts()>1\n",
    "print('Number of questions getting repeated',x[x].shape[0])"
   ]
  },
  {
   "cell_type": "code",
   "execution_count": 19,
   "id": "0b0e3504-b923-4ecf-9306-a0ba81fc07eb",
   "metadata": {
    "id": "0b0e3504-b923-4ecf-9306-a0ba81fc07eb",
    "outputId": "c60c197e-aa56-4e40-9894-c48d059a7980"
   },
   "outputs": [
    {
     "data": {
      "image/png": "[encoded data removed]",
      "text/plain": [
       "<Figure size 640x480 with 1 Axes>"
      ]
     },
     "metadata": {},
     "output_type": "display_data"
    }
   ],
   "source": [
    "# Repeated questions histogram\n",
    "\n",
    "plt.hist(qid.value_counts().values,bins=160)\n",
    "plt.yscale('log')\n",
    "plt.show()"
   ]
  },
  {
   "cell_type": "markdown",
   "id": "eeb37f86-a4a3-4a9c-8219-fbe37e6c6d19",
   "metadata": {
    "id": "eeb37f86-a4a3-4a9c-8219-fbe37e6c6d19"
   },
   "source": [
    "# ONLY BOW"
   ]
  },
  {
   "cell_type": "code",
   "execution_count": 20,
   "id": "22230717-b5c6-4801-992f-71a4cbe25eae",
   "metadata": {
    "id": "22230717-b5c6-4801-992f-71a4cbe25eae"
   },
   "outputs": [],
   "source": [
    "import numpy as np\n",
    "import pandas as pd\n",
    "import matplotlib.pyplot as plt\n",
    "import seaborn as sns"
   ]
  },
  {
   "cell_type": "code",
   "execution_count": 21,
   "id": "2589ad41-de71-413f-9b24-0e6283492355",
   "metadata": {
    "id": "2589ad41-de71-413f-9b24-0e6283492355",
    "outputId": "c70f0d56-f5e2-4481-b9a0-fcaf62975155"
   },
   "outputs": [
    {
     "data": {
      "text/plain": [
       "(3000, 6)"
      ]
     },
     "execution_count": 21,
     "metadata": {},
     "output_type": "execute_result"
    }
   ],
   "source": [
    "df2 = pd.read_csv(\"synthetic_question_pairs_3000.csv\")\n",
    "df2.shape"
   ]
  },
  {
   "cell_type": "code",
   "execution_count": 22,
   "id": "7cd06f0e-6241-47cc-aadd-86db79930fb1",
   "metadata": {
    "id": "7cd06f0e-6241-47cc-aadd-86db79930fb1",
    "outputId": "b9b5b8e3-b691-4084-8fc5-3bb843342072"
   },
   "outputs": [
    {
     "data": {
      "text/html": [
       "<div>\n",
       "<style scoped>\n",
       "    .dataframe tbody tr th:only-of-type {\n",
       "        vertical-align: middle;\n",
       "    }\n",
       "\n",
       "    .dataframe tbody tr th {\n",
       "        vertical-align: top;\n",
       "    }\n",
       "\n",
       "    .dataframe thead th {\n",
       "        text-align: right;\n",
       "    }\n",
       "</style>\n",
       "<table border=\"1\" class=\"dataframe\">\n",
       "  <thead>\n",
       "    <tr style=\"text-align: right;\">\n",
       "      <th></th>\n",
       "      <th>id</th>\n",
       "      <th>qid1</th>\n",
       "      <th>qid2</th>\n",
       "      <th>question1</th>\n",
       "      <th>question2</th>\n",
       "      <th>is_duplicate</th>\n",
       "    </tr>\n",
       "  </thead>\n",
       "  <tbody>\n",
       "    <tr>\n",
       "      <th>0</th>\n",
       "      <td>0</td>\n",
       "      <td>1</td>\n",
       "      <td>2</td>\n",
       "      <td>What is the best way to lose weight?</td>\n",
       "      <td>What is the best way to lose weight?</td>\n",
       "      <td>1</td>\n",
       "    </tr>\n",
       "    <tr>\n",
       "      <th>1</th>\n",
       "      <td>1</td>\n",
       "      <td>3</td>\n",
       "      <td>4</td>\n",
       "      <td>How can I build good habits?</td>\n",
       "      <td>How to improve communication skills?</td>\n",
       "      <td>0</td>\n",
       "    </tr>\n",
       "    <tr>\n",
       "      <th>2</th>\n",
       "      <td>2</td>\n",
       "      <td>5</td>\n",
       "      <td>6</td>\n",
       "      <td>What is the best way to save money?</td>\n",
       "      <td>How to start freelancing as a student?</td>\n",
       "      <td>0</td>\n",
       "    </tr>\n",
       "    <tr>\n",
       "      <th>3</th>\n",
       "      <td>3</td>\n",
       "      <td>7</td>\n",
       "      <td>8</td>\n",
       "      <td>How to start freelancing as a student?</td>\n",
       "      <td>What is Artificial Intelligence?</td>\n",
       "      <td>0</td>\n",
       "    </tr>\n",
       "    <tr>\n",
       "      <th>4</th>\n",
       "      <td>4</td>\n",
       "      <td>9</td>\n",
       "      <td>10</td>\n",
       "      <td>What are the symptoms of diabetes?</td>\n",
       "      <td>What is the future of electric vehicles?</td>\n",
       "      <td>0</td>\n",
       "    </tr>\n",
       "  </tbody>\n",
       "</table>\n",
       "</div>"
      ],
      "text/plain": [
       "   id  qid1  qid2                               question1  \\\n",
       "0   0     1     2    What is the best way to lose weight?   \n",
       "1   1     3     4            How can I build good habits?   \n",
       "2   2     5     6     What is the best way to save money?   \n",
       "3   3     7     8  How to start freelancing as a student?   \n",
       "4   4     9    10      What are the symptoms of diabetes?   \n",
       "\n",
       "                                  question2  is_duplicate  \n",
       "0      What is the best way to lose weight?             1  \n",
       "1      How to improve communication skills?             0  \n",
       "2    How to start freelancing as a student?             0  \n",
       "3          What is Artificial Intelligence?             0  \n",
       "4  What is the future of electric vehicles?             0  "
      ]
     },
     "execution_count": 22,
     "metadata": {},
     "output_type": "execute_result"
    }
   ],
   "source": [
    "df2.head()"
   ]
  },
  {
   "cell_type": "code",
   "execution_count": 23,
   "id": "026a9745-f53b-4cd9-841c-fc86f25c3532",
   "metadata": {
    "id": "026a9745-f53b-4cd9-841c-fc86f25c3532",
    "outputId": "c34bac26-5b80-45f6-cd97-dc1687301a83"
   },
   "outputs": [
    {
     "data": {
      "text/plain": [
       "id              0\n",
       "qid1            0\n",
       "qid2            0\n",
       "question1       0\n",
       "question2       0\n",
       "is_duplicate    0\n",
       "dtype: int64"
      ]
     },
     "execution_count": 23,
     "metadata": {},
     "output_type": "execute_result"
    }
   ],
   "source": [
    "df2.isnull().sum()"
   ]
  },
  {
   "cell_type": "code",
   "execution_count": 24,
   "id": "513e74e4-1e1a-4f32-9ac6-f717c2ae897c",
   "metadata": {
    "id": "513e74e4-1e1a-4f32-9ac6-f717c2ae897c",
    "outputId": "33fbbe34-c7f6-40fc-ea6b-01385ea67957"
   },
   "outputs": [
    {
     "data": {
      "text/plain": [
       "0"
      ]
     },
     "execution_count": 24,
     "metadata": {},
     "output_type": "execute_result"
    }
   ],
   "source": [
    "df2.duplicated().sum()"
   ]
  },
  {
   "cell_type": "code",
   "execution_count": 25,
   "id": "60584546-9834-482a-9244-404082e7fcd5",
   "metadata": {
    "id": "60584546-9834-482a-9244-404082e7fcd5",
    "outputId": "42f00e52-c270-4ef6-a373-f6caffd19fb9"
   },
   "outputs": [
    {
     "data": {
      "text/html": [
       "<div>\n",
       "<style scoped>\n",
       "    .dataframe tbody tr th:only-of-type {\n",
       "        vertical-align: middle;\n",
       "    }\n",
       "\n",
       "    .dataframe tbody tr th {\n",
       "        vertical-align: top;\n",
       "    }\n",
       "\n",
       "    .dataframe thead th {\n",
       "        text-align: right;\n",
       "    }\n",
       "</style>\n",
       "<table border=\"1\" class=\"dataframe\">\n",
       "  <thead>\n",
       "    <tr style=\"text-align: right;\">\n",
       "      <th></th>\n",
       "      <th>question1</th>\n",
       "      <th>question2</th>\n",
       "    </tr>\n",
       "  </thead>\n",
       "  <tbody>\n",
       "    <tr>\n",
       "      <th>0</th>\n",
       "      <td>What is the best way to lose weight?</td>\n",
       "      <td>What is the best way to lose weight?</td>\n",
       "    </tr>\n",
       "    <tr>\n",
       "      <th>1</th>\n",
       "      <td>How can I build good habits?</td>\n",
       "      <td>How to improve communication skills?</td>\n",
       "    </tr>\n",
       "    <tr>\n",
       "      <th>2</th>\n",
       "      <td>What is the best way to save money?</td>\n",
       "      <td>How to start freelancing as a student?</td>\n",
       "    </tr>\n",
       "    <tr>\n",
       "      <th>3</th>\n",
       "      <td>How to start freelancing as a student?</td>\n",
       "      <td>What is Artificial Intelligence?</td>\n",
       "    </tr>\n",
       "    <tr>\n",
       "      <th>4</th>\n",
       "      <td>What are the symptoms of diabetes?</td>\n",
       "      <td>What is the future of electric vehicles?</td>\n",
       "    </tr>\n",
       "  </tbody>\n",
       "</table>\n",
       "</div>"
      ],
      "text/plain": [
       "                                question1  \\\n",
       "0    What is the best way to lose weight?   \n",
       "1            How can I build good habits?   \n",
       "2     What is the best way to save money?   \n",
       "3  How to start freelancing as a student?   \n",
       "4      What are the symptoms of diabetes?   \n",
       "\n",
       "                                  question2  \n",
       "0      What is the best way to lose weight?  \n",
       "1      How to improve communication skills?  \n",
       "2    How to start freelancing as a student?  \n",
       "3          What is Artificial Intelligence?  \n",
       "4  What is the future of electric vehicles?  "
      ]
     },
     "execution_count": 25,
     "metadata": {},
     "output_type": "execute_result"
    }
   ],
   "source": [
    "ques_df = df2[['question1','question2']]\n",
    "ques_df.head()"
   ]
  },
  {
   "cell_type": "code",
   "execution_count": 26,
   "id": "f2a075ee-ea77-4f73-bd2f-0bb41b89beb4",
   "metadata": {
    "id": "f2a075ee-ea77-4f73-bd2f-0bb41b89beb4",
    "outputId": "0bbcbeb0-bc99-4831-a79b-86d24053fbf7"
   },
   "outputs": [
    {
     "name": "stderr",
     "output_type": "stream",
     "text": [
      "C:\\Users\\Dell\\AppData\\Local\\Temp\\ipykernel_25688\\1444612300.py:5: SettingWithCopyWarning: \n",
      "A value is trying to be set on a copy of a slice from a DataFrame.\n",
      "Try using .loc[row_indexer,col_indexer] = value instead\n",
      "\n",
      "See the caveats in the documentation: https://pandas.pydata.org/pandas-docs/stable/user_guide/indexing.html#returning-a-view-versus-a-copy\n",
      "  ques_df['question1'] = ques_df['question1'].fillna(\"\")\n",
      "C:\\Users\\Dell\\AppData\\Local\\Temp\\ipykernel_25688\\1444612300.py:6: SettingWithCopyWarning: \n",
      "A value is trying to be set on a copy of a slice from a DataFrame.\n",
      "Try using .loc[row_indexer,col_indexer] = value instead\n",
      "\n",
      "See the caveats in the documentation: https://pandas.pydata.org/pandas-docs/stable/user_guide/indexing.html#returning-a-view-versus-a-copy\n",
      "  ques_df['question2'] = ques_df['question2'].fillna(\"\")\n"
     ]
    }
   ],
   "source": [
    "from sklearn.feature_extraction.text import CountVectorizer\n",
    "import numpy as np\n",
    "\n",
    "# Ensure there are no NaN values in the data\n",
    "ques_df['question1'] = ques_df['question1'].fillna(\"\")\n",
    "ques_df['question2'] = ques_df['question2'].fillna(\"\")\n",
    "\n",
    "# Assuming ques_df is a DataFrame with 'question1' and 'question2' columns\n",
    "questions = list(ques_df['question1']) + list(ques_df['question2'])\n",
    "\n",
    "# Initialize CountVectorizer with a limit on features\n",
    "cv = CountVectorizer(max_features=3000)\n",
    "\n",
    "# Fit and transform the merged text data\n",
    "features = cv.fit_transform(questions).toarray()\n",
    "\n",
    "# Validate the split index\n",
    "split_index = len(ques_df['question1'])\n",
    "assert features.shape[0] == 2 * split_index\n",
    "\n",
    "q1_arr, q2_arr = np.vsplit(features, [split_index])\n"
   ]
  },
  {
   "cell_type": "code",
   "execution_count": 27,
   "id": "1fea2c3e-de5b-4705-97ff-39d0fd142d8a",
   "metadata": {
    "id": "1fea2c3e-de5b-4705-97ff-39d0fd142d8a",
    "outputId": "bee55ce1-5c00-447e-bc89-b6d2509938a8"
   },
   "outputs": [
    {
     "data": {
      "text/plain": [
       "(3000, 138)"
      ]
     },
     "execution_count": 27,
     "metadata": {},
     "output_type": "execute_result"
    }
   ],
   "source": [
    "temp_df1 = pd.DataFrame(q1_arr, index= ques_df.index)\n",
    "temp_df2 = pd.DataFrame(q2_arr, index= ques_df.index)\n",
    "temp_df = pd.concat([temp_df1, temp_df2], axis=1)\n",
    "temp_df.shape"
   ]
  },
  {
   "cell_type": "code",
   "execution_count": 28,
   "id": "df40db01-28f6-4464-b18c-baf82e276b3d",
   "metadata": {
    "id": "df40db01-28f6-4464-b18c-baf82e276b3d",
    "outputId": "15d39316-29e1-4f75-d62d-f1c45bd0e84a"
   },
   "outputs": [
    {
     "data": {
      "text/html": [
       "<div>\n",
       "<style scoped>\n",
       "    .dataframe tbody tr th:only-of-type {\n",
       "        vertical-align: middle;\n",
       "    }\n",
       "\n",
       "    .dataframe tbody tr th {\n",
       "        vertical-align: top;\n",
       "    }\n",
       "\n",
       "    .dataframe thead th {\n",
       "        text-align: right;\n",
       "    }\n",
       "</style>\n",
       "<table border=\"1\" class=\"dataframe\">\n",
       "  <thead>\n",
       "    <tr style=\"text-align: right;\">\n",
       "      <th></th>\n",
       "      <th>0</th>\n",
       "      <th>1</th>\n",
       "      <th>2</th>\n",
       "      <th>3</th>\n",
       "      <th>4</th>\n",
       "      <th>5</th>\n",
       "      <th>6</th>\n",
       "      <th>7</th>\n",
       "      <th>8</th>\n",
       "      <th>9</th>\n",
       "      <th>...</th>\n",
       "      <th>59</th>\n",
       "      <th>60</th>\n",
       "      <th>61</th>\n",
       "      <th>62</th>\n",
       "      <th>63</th>\n",
       "      <th>64</th>\n",
       "      <th>65</th>\n",
       "      <th>66</th>\n",
       "      <th>67</th>\n",
       "      <th>68</th>\n",
       "    </tr>\n",
       "  </thead>\n",
       "  <tbody>\n",
       "    <tr>\n",
       "      <th>0</th>\n",
       "      <td>0</td>\n",
       "      <td>0</td>\n",
       "      <td>0</td>\n",
       "      <td>0</td>\n",
       "      <td>0</td>\n",
       "      <td>0</td>\n",
       "      <td>1</td>\n",
       "      <td>0</td>\n",
       "      <td>0</td>\n",
       "      <td>0</td>\n",
       "      <td>...</td>\n",
       "      <td>0</td>\n",
       "      <td>1</td>\n",
       "      <td>0</td>\n",
       "      <td>0</td>\n",
       "      <td>1</td>\n",
       "      <td>1</td>\n",
       "      <td>1</td>\n",
       "      <td>0</td>\n",
       "      <td>0</td>\n",
       "      <td>0</td>\n",
       "    </tr>\n",
       "    <tr>\n",
       "      <th>1</th>\n",
       "      <td>0</td>\n",
       "      <td>0</td>\n",
       "      <td>0</td>\n",
       "      <td>0</td>\n",
       "      <td>0</td>\n",
       "      <td>0</td>\n",
       "      <td>0</td>\n",
       "      <td>0</td>\n",
       "      <td>1</td>\n",
       "      <td>1</td>\n",
       "      <td>...</td>\n",
       "      <td>0</td>\n",
       "      <td>1</td>\n",
       "      <td>0</td>\n",
       "      <td>0</td>\n",
       "      <td>0</td>\n",
       "      <td>0</td>\n",
       "      <td>0</td>\n",
       "      <td>0</td>\n",
       "      <td>0</td>\n",
       "      <td>0</td>\n",
       "    </tr>\n",
       "    <tr>\n",
       "      <th>2</th>\n",
       "      <td>0</td>\n",
       "      <td>0</td>\n",
       "      <td>0</td>\n",
       "      <td>0</td>\n",
       "      <td>0</td>\n",
       "      <td>0</td>\n",
       "      <td>1</td>\n",
       "      <td>0</td>\n",
       "      <td>0</td>\n",
       "      <td>0</td>\n",
       "      <td>...</td>\n",
       "      <td>0</td>\n",
       "      <td>1</td>\n",
       "      <td>0</td>\n",
       "      <td>0</td>\n",
       "      <td>0</td>\n",
       "      <td>0</td>\n",
       "      <td>0</td>\n",
       "      <td>0</td>\n",
       "      <td>0</td>\n",
       "      <td>0</td>\n",
       "    </tr>\n",
       "    <tr>\n",
       "      <th>3</th>\n",
       "      <td>0</td>\n",
       "      <td>0</td>\n",
       "      <td>0</td>\n",
       "      <td>0</td>\n",
       "      <td>1</td>\n",
       "      <td>0</td>\n",
       "      <td>0</td>\n",
       "      <td>0</td>\n",
       "      <td>0</td>\n",
       "      <td>0</td>\n",
       "      <td>...</td>\n",
       "      <td>0</td>\n",
       "      <td>0</td>\n",
       "      <td>0</td>\n",
       "      <td>0</td>\n",
       "      <td>0</td>\n",
       "      <td>0</td>\n",
       "      <td>1</td>\n",
       "      <td>0</td>\n",
       "      <td>0</td>\n",
       "      <td>0</td>\n",
       "    </tr>\n",
       "    <tr>\n",
       "      <th>4</th>\n",
       "      <td>0</td>\n",
       "      <td>0</td>\n",
       "      <td>1</td>\n",
       "      <td>0</td>\n",
       "      <td>0</td>\n",
       "      <td>0</td>\n",
       "      <td>0</td>\n",
       "      <td>0</td>\n",
       "      <td>0</td>\n",
       "      <td>0</td>\n",
       "      <td>...</td>\n",
       "      <td>0</td>\n",
       "      <td>0</td>\n",
       "      <td>0</td>\n",
       "      <td>1</td>\n",
       "      <td>0</td>\n",
       "      <td>0</td>\n",
       "      <td>1</td>\n",
       "      <td>0</td>\n",
       "      <td>0</td>\n",
       "      <td>0</td>\n",
       "    </tr>\n",
       "    <tr>\n",
       "      <th>...</th>\n",
       "      <td>...</td>\n",
       "      <td>...</td>\n",
       "      <td>...</td>\n",
       "      <td>...</td>\n",
       "      <td>...</td>\n",
       "      <td>...</td>\n",
       "      <td>...</td>\n",
       "      <td>...</td>\n",
       "      <td>...</td>\n",
       "      <td>...</td>\n",
       "      <td>...</td>\n",
       "      <td>...</td>\n",
       "      <td>...</td>\n",
       "      <td>...</td>\n",
       "      <td>...</td>\n",
       "      <td>...</td>\n",
       "      <td>...</td>\n",
       "      <td>...</td>\n",
       "      <td>...</td>\n",
       "      <td>...</td>\n",
       "      <td>...</td>\n",
       "    </tr>\n",
       "    <tr>\n",
       "      <th>2995</th>\n",
       "      <td>1</td>\n",
       "      <td>1</td>\n",
       "      <td>0</td>\n",
       "      <td>0</td>\n",
       "      <td>0</td>\n",
       "      <td>0</td>\n",
       "      <td>0</td>\n",
       "      <td>1</td>\n",
       "      <td>0</td>\n",
       "      <td>0</td>\n",
       "      <td>...</td>\n",
       "      <td>0</td>\n",
       "      <td>0</td>\n",
       "      <td>0</td>\n",
       "      <td>0</td>\n",
       "      <td>0</td>\n",
       "      <td>0</td>\n",
       "      <td>1</td>\n",
       "      <td>0</td>\n",
       "      <td>0</td>\n",
       "      <td>0</td>\n",
       "    </tr>\n",
       "    <tr>\n",
       "      <th>2996</th>\n",
       "      <td>0</td>\n",
       "      <td>0</td>\n",
       "      <td>0</td>\n",
       "      <td>0</td>\n",
       "      <td>0</td>\n",
       "      <td>0</td>\n",
       "      <td>0</td>\n",
       "      <td>0</td>\n",
       "      <td>0</td>\n",
       "      <td>0</td>\n",
       "      <td>...</td>\n",
       "      <td>0</td>\n",
       "      <td>1</td>\n",
       "      <td>0</td>\n",
       "      <td>0</td>\n",
       "      <td>1</td>\n",
       "      <td>0</td>\n",
       "      <td>1</td>\n",
       "      <td>0</td>\n",
       "      <td>0</td>\n",
       "      <td>0</td>\n",
       "    </tr>\n",
       "    <tr>\n",
       "      <th>2997</th>\n",
       "      <td>0</td>\n",
       "      <td>0</td>\n",
       "      <td>0</td>\n",
       "      <td>0</td>\n",
       "      <td>0</td>\n",
       "      <td>0</td>\n",
       "      <td>0</td>\n",
       "      <td>0</td>\n",
       "      <td>0</td>\n",
       "      <td>0</td>\n",
       "      <td>...</td>\n",
       "      <td>0</td>\n",
       "      <td>0</td>\n",
       "      <td>0</td>\n",
       "      <td>0</td>\n",
       "      <td>0</td>\n",
       "      <td>0</td>\n",
       "      <td>1</td>\n",
       "      <td>0</td>\n",
       "      <td>0</td>\n",
       "      <td>0</td>\n",
       "    </tr>\n",
       "    <tr>\n",
       "      <th>2998</th>\n",
       "      <td>0</td>\n",
       "      <td>0</td>\n",
       "      <td>0</td>\n",
       "      <td>0</td>\n",
       "      <td>0</td>\n",
       "      <td>0</td>\n",
       "      <td>0</td>\n",
       "      <td>0</td>\n",
       "      <td>0</td>\n",
       "      <td>1</td>\n",
       "      <td>...</td>\n",
       "      <td>0</td>\n",
       "      <td>0</td>\n",
       "      <td>0</td>\n",
       "      <td>0</td>\n",
       "      <td>0</td>\n",
       "      <td>0</td>\n",
       "      <td>0</td>\n",
       "      <td>0</td>\n",
       "      <td>0</td>\n",
       "      <td>0</td>\n",
       "    </tr>\n",
       "    <tr>\n",
       "      <th>2999</th>\n",
       "      <td>0</td>\n",
       "      <td>0</td>\n",
       "      <td>0</td>\n",
       "      <td>0</td>\n",
       "      <td>0</td>\n",
       "      <td>0</td>\n",
       "      <td>0</td>\n",
       "      <td>0</td>\n",
       "      <td>0</td>\n",
       "      <td>0</td>\n",
       "      <td>...</td>\n",
       "      <td>0</td>\n",
       "      <td>0</td>\n",
       "      <td>0</td>\n",
       "      <td>0</td>\n",
       "      <td>0</td>\n",
       "      <td>0</td>\n",
       "      <td>0</td>\n",
       "      <td>0</td>\n",
       "      <td>0</td>\n",
       "      <td>1</td>\n",
       "    </tr>\n",
       "  </tbody>\n",
       "</table>\n",
       "<p>3000 rows × 138 columns</p>\n",
       "</div>"
      ],
      "text/plain": [
       "      0   1   2   3   4   5   6   7   8   9   ...  59  60  61  62  63  64  65  \\\n",
       "0      0   0   0   0   0   0   1   0   0   0  ...   0   1   0   0   1   1   1   \n",
       "1      0   0   0   0   0   0   0   0   1   1  ...   0   1   0   0   0   0   0   \n",
       "2      0   0   0   0   0   0   1   0   0   0  ...   0   1   0   0   0   0   0   \n",
       "3      0   0   0   0   1   0   0   0   0   0  ...   0   0   0   0   0   0   1   \n",
       "4      0   0   1   0   0   0   0   0   0   0  ...   0   0   0   1   0   0   1   \n",
       "...   ..  ..  ..  ..  ..  ..  ..  ..  ..  ..  ...  ..  ..  ..  ..  ..  ..  ..   \n",
       "2995   1   1   0   0   0   0   0   1   0   0  ...   0   0   0   0   0   0   1   \n",
       "2996   0   0   0   0   0   0   0   0   0   0  ...   0   1   0   0   1   0   1   \n",
       "2997   0   0   0   0   0   0   0   0   0   0  ...   0   0   0   0   0   0   1   \n",
       "2998   0   0   0   0   0   0   0   0   0   1  ...   0   0   0   0   0   0   0   \n",
       "2999   0   0   0   0   0   0   0   0   0   0  ...   0   0   0   0   0   0   0   \n",
       "\n",
       "      66  67  68  \n",
       "0      0   0   0  \n",
       "1      0   0   0  \n",
       "2      0   0   0  \n",
       "3      0   0   0  \n",
       "4      0   0   0  \n",
       "...   ..  ..  ..  \n",
       "2995   0   0   0  \n",
       "2996   0   0   0  \n",
       "2997   0   0   0  \n",
       "2998   0   0   0  \n",
       "2999   0   0   1  \n",
       "\n",
       "[3000 rows x 138 columns]"
      ]
     },
     "execution_count": 28,
     "metadata": {},
     "output_type": "execute_result"
    }
   ],
   "source": [
    "temp_df"
   ]
  },
  {
   "cell_type": "code",
   "execution_count": 29,
   "id": "d0ab54c9-cb4b-46e4-9dc5-14a53626474f",
   "metadata": {
    "id": "d0ab54c9-cb4b-46e4-9dc5-14a53626474f"
   },
   "outputs": [],
   "source": [
    "temp_df['is_duplicate'] = df2['is_duplicate']"
   ]
  },
  {
   "cell_type": "code",
   "execution_count": 30,
   "id": "83065eb6-268c-489e-ba2f-ae0de3920f73",
   "metadata": {
    "id": "83065eb6-268c-489e-ba2f-ae0de3920f73",
    "outputId": "d39f8190-80c0-4886-c340-27bab20a276b"
   },
   "outputs": [
    {
     "data": {
      "text/html": [
       "<div>\n",
       "<style scoped>\n",
       "    .dataframe tbody tr th:only-of-type {\n",
       "        vertical-align: middle;\n",
       "    }\n",
       "\n",
       "    .dataframe tbody tr th {\n",
       "        vertical-align: top;\n",
       "    }\n",
       "\n",
       "    .dataframe thead th {\n",
       "        text-align: right;\n",
       "    }\n",
       "</style>\n",
       "<table border=\"1\" class=\"dataframe\">\n",
       "  <thead>\n",
       "    <tr style=\"text-align: right;\">\n",
       "      <th></th>\n",
       "      <th>0</th>\n",
       "      <th>1</th>\n",
       "      <th>2</th>\n",
       "      <th>3</th>\n",
       "      <th>4</th>\n",
       "      <th>5</th>\n",
       "      <th>6</th>\n",
       "      <th>7</th>\n",
       "      <th>8</th>\n",
       "      <th>9</th>\n",
       "      <th>...</th>\n",
       "      <th>60</th>\n",
       "      <th>61</th>\n",
       "      <th>62</th>\n",
       "      <th>63</th>\n",
       "      <th>64</th>\n",
       "      <th>65</th>\n",
       "      <th>66</th>\n",
       "      <th>67</th>\n",
       "      <th>68</th>\n",
       "      <th>is_duplicate</th>\n",
       "    </tr>\n",
       "  </thead>\n",
       "  <tbody>\n",
       "    <tr>\n",
       "      <th>0</th>\n",
       "      <td>0</td>\n",
       "      <td>0</td>\n",
       "      <td>0</td>\n",
       "      <td>0</td>\n",
       "      <td>0</td>\n",
       "      <td>0</td>\n",
       "      <td>1</td>\n",
       "      <td>0</td>\n",
       "      <td>0</td>\n",
       "      <td>0</td>\n",
       "      <td>...</td>\n",
       "      <td>1</td>\n",
       "      <td>0</td>\n",
       "      <td>0</td>\n",
       "      <td>1</td>\n",
       "      <td>1</td>\n",
       "      <td>1</td>\n",
       "      <td>0</td>\n",
       "      <td>0</td>\n",
       "      <td>0</td>\n",
       "      <td>1</td>\n",
       "    </tr>\n",
       "    <tr>\n",
       "      <th>1</th>\n",
       "      <td>0</td>\n",
       "      <td>0</td>\n",
       "      <td>0</td>\n",
       "      <td>0</td>\n",
       "      <td>0</td>\n",
       "      <td>0</td>\n",
       "      <td>0</td>\n",
       "      <td>0</td>\n",
       "      <td>1</td>\n",
       "      <td>1</td>\n",
       "      <td>...</td>\n",
       "      <td>1</td>\n",
       "      <td>0</td>\n",
       "      <td>0</td>\n",
       "      <td>0</td>\n",
       "      <td>0</td>\n",
       "      <td>0</td>\n",
       "      <td>0</td>\n",
       "      <td>0</td>\n",
       "      <td>0</td>\n",
       "      <td>0</td>\n",
       "    </tr>\n",
       "    <tr>\n",
       "      <th>2</th>\n",
       "      <td>0</td>\n",
       "      <td>0</td>\n",
       "      <td>0</td>\n",
       "      <td>0</td>\n",
       "      <td>0</td>\n",
       "      <td>0</td>\n",
       "      <td>1</td>\n",
       "      <td>0</td>\n",
       "      <td>0</td>\n",
       "      <td>0</td>\n",
       "      <td>...</td>\n",
       "      <td>1</td>\n",
       "      <td>0</td>\n",
       "      <td>0</td>\n",
       "      <td>0</td>\n",
       "      <td>0</td>\n",
       "      <td>0</td>\n",
       "      <td>0</td>\n",
       "      <td>0</td>\n",
       "      <td>0</td>\n",
       "      <td>0</td>\n",
       "    </tr>\n",
       "    <tr>\n",
       "      <th>3</th>\n",
       "      <td>0</td>\n",
       "      <td>0</td>\n",
       "      <td>0</td>\n",
       "      <td>0</td>\n",
       "      <td>1</td>\n",
       "      <td>0</td>\n",
       "      <td>0</td>\n",
       "      <td>0</td>\n",
       "      <td>0</td>\n",
       "      <td>0</td>\n",
       "      <td>...</td>\n",
       "      <td>0</td>\n",
       "      <td>0</td>\n",
       "      <td>0</td>\n",
       "      <td>0</td>\n",
       "      <td>0</td>\n",
       "      <td>1</td>\n",
       "      <td>0</td>\n",
       "      <td>0</td>\n",
       "      <td>0</td>\n",
       "      <td>0</td>\n",
       "    </tr>\n",
       "    <tr>\n",
       "      <th>4</th>\n",
       "      <td>0</td>\n",
       "      <td>0</td>\n",
       "      <td>1</td>\n",
       "      <td>0</td>\n",
       "      <td>0</td>\n",
       "      <td>0</td>\n",
       "      <td>0</td>\n",
       "      <td>0</td>\n",
       "      <td>0</td>\n",
       "      <td>0</td>\n",
       "      <td>...</td>\n",
       "      <td>0</td>\n",
       "      <td>0</td>\n",
       "      <td>1</td>\n",
       "      <td>0</td>\n",
       "      <td>0</td>\n",
       "      <td>1</td>\n",
       "      <td>0</td>\n",
       "      <td>0</td>\n",
       "      <td>0</td>\n",
       "      <td>0</td>\n",
       "    </tr>\n",
       "  </tbody>\n",
       "</table>\n",
       "<p>5 rows × 139 columns</p>\n",
       "</div>"
      ],
      "text/plain": [
       "   0  1  2  3  4  5  6  7  8  9  ...  60  61  62  63  64  65  66  67  68  \\\n",
       "0  0  0  0  0  0  0  1  0  0  0  ...   1   0   0   1   1   1   0   0   0   \n",
       "1  0  0  0  0  0  0  0  0  1  1  ...   1   0   0   0   0   0   0   0   0   \n",
       "2  0  0  0  0  0  0  1  0  0  0  ...   1   0   0   0   0   0   0   0   0   \n",
       "3  0  0  0  0  1  0  0  0  0  0  ...   0   0   0   0   0   1   0   0   0   \n",
       "4  0  0  1  0  0  0  0  0  0  0  ...   0   0   1   0   0   1   0   0   0   \n",
       "\n",
       "   is_duplicate  \n",
       "0             1  \n",
       "1             0  \n",
       "2             0  \n",
       "3             0  \n",
       "4             0  \n",
       "\n",
       "[5 rows x 139 columns]"
      ]
     },
     "execution_count": 30,
     "metadata": {},
     "output_type": "execute_result"
    }
   ],
   "source": [
    "temp_df.head()"
   ]
  },
  {
   "cell_type": "code",
   "execution_count": 31,
   "id": "55a0e58d-db7e-420d-a0fd-5eb37a3c8711",
   "metadata": {
    "id": "55a0e58d-db7e-420d-a0fd-5eb37a3c8711"
   },
   "outputs": [],
   "source": [
    "from sklearn.model_selection import train_test_split\n",
    "X_train,X_test,y_train,y_test = train_test_split(temp_df.iloc[:,0:-1].values,temp_df.iloc[:,-1].values,test_size=0.2,random_state=1)"
   ]
  },
  {
   "cell_type": "code",
   "execution_count": 32,
   "id": "8644a638-b7a1-4a50-827f-93f96d6765b0",
   "metadata": {
    "id": "8644a638-b7a1-4a50-827f-93f96d6765b0",
    "outputId": "bb675422-6076-4371-c77f-914be9514f3b"
   },
   "outputs": [
    {
     "data": {
      "text/plain": [
       "1.0"
      ]
     },
     "execution_count": 32,
     "metadata": {},
     "output_type": "execute_result"
    }
   ],
   "source": [
    "from sklearn.ensemble import RandomForestClassifier\n",
    "from sklearn.metrics import accuracy_score\n",
    "rf = RandomForestClassifier()\n",
    "rf.fit(X_train,y_train)\n",
    "y_pred = rf.predict(X_test)\n",
    "accuracy_score(y_test,y_pred)"
   ]
  },
  {
   "cell_type": "code",
   "execution_count": 33,
   "id": "5b43d647-ce78-4c97-b38b-e7be266491a1",
   "metadata": {
    "id": "5b43d647-ce78-4c97-b38b-e7be266491a1",
    "outputId": "25a06927-9c5f-4a12-a94e-e15b1d3cf26d"
   },
   "outputs": [
    {
     "data": {
      "text/plain": [
       "1.0"
      ]
     },
     "execution_count": 33,
     "metadata": {},
     "output_type": "execute_result"
    }
   ],
   "source": [
    "from xgboost import XGBClassifier\n",
    "xgb = XGBClassifier()\n",
    "xgb.fit(X_train,y_train)\n",
    "y_pred = xgb.predict(X_test)\n",
    "accuracy_score(y_test,y_pred)"
   ]
  },
  {
   "cell_type": "markdown",
   "id": "455f681f-b820-4607-baa3-e33c269afb1c",
   "metadata": {
    "id": "455f681f-b820-4607-baa3-e33c269afb1c"
   },
   "source": [
    "# BOW_with_basic_features"
   ]
  },
  {
   "cell_type": "code",
   "execution_count": 34,
   "id": "3d14c29a-ad65-473c-a260-6ab00cf22d04",
   "metadata": {
    "id": "3d14c29a-ad65-473c-a260-6ab00cf22d04"
   },
   "outputs": [],
   "source": [
    "import numpy as np\n",
    "import pandas as pd\n",
    "import matplotlib.pyplot as plt\n",
    "import seaborn as sns\n",
    "\n",
    "import warnings\n",
    "warnings.filterwarnings('ignore')"
   ]
  },
  {
   "cell_type": "code",
   "execution_count": 35,
   "id": "d74a68c6-6877-47b8-87bb-7920ddf63fe9",
   "metadata": {
    "id": "d74a68c6-6877-47b8-87bb-7920ddf63fe9",
    "outputId": "4e8eaaa0-2c50-4e3a-d05a-b53ddf0a509b"
   },
   "outputs": [
    {
     "data": {
      "text/plain": [
       "(3000, 6)"
      ]
     },
     "execution_count": 35,
     "metadata": {},
     "output_type": "execute_result"
    }
   ],
   "source": [
    "df3 = pd.read_csv(\"synthetic_question_pairs_3000.csv\")\n",
    "df3.shape"
   ]
  },
  {
   "cell_type": "code",
   "execution_count": 36,
   "id": "665156b9-bd86-4032-b3a5-b4a67de512a6",
   "metadata": {
    "id": "665156b9-bd86-4032-b3a5-b4a67de512a6",
    "outputId": "3d3262a1-0e52-4b79-8a14-583d22daf58b"
   },
   "outputs": [
    {
     "data": {
      "text/html": [
       "<div>\n",
       "<style scoped>\n",
       "    .dataframe tbody tr th:only-of-type {\n",
       "        vertical-align: middle;\n",
       "    }\n",
       "\n",
       "    .dataframe tbody tr th {\n",
       "        vertical-align: top;\n",
       "    }\n",
       "\n",
       "    .dataframe thead th {\n",
       "        text-align: right;\n",
       "    }\n",
       "</style>\n",
       "<table border=\"1\" class=\"dataframe\">\n",
       "  <thead>\n",
       "    <tr style=\"text-align: right;\">\n",
       "      <th></th>\n",
       "      <th>id</th>\n",
       "      <th>qid1</th>\n",
       "      <th>qid2</th>\n",
       "      <th>question1</th>\n",
       "      <th>question2</th>\n",
       "      <th>is_duplicate</th>\n",
       "    </tr>\n",
       "  </thead>\n",
       "  <tbody>\n",
       "    <tr>\n",
       "      <th>0</th>\n",
       "      <td>0</td>\n",
       "      <td>1</td>\n",
       "      <td>2</td>\n",
       "      <td>What is the best way to lose weight?</td>\n",
       "      <td>What is the best way to lose weight?</td>\n",
       "      <td>1</td>\n",
       "    </tr>\n",
       "    <tr>\n",
       "      <th>1</th>\n",
       "      <td>1</td>\n",
       "      <td>3</td>\n",
       "      <td>4</td>\n",
       "      <td>How can I build good habits?</td>\n",
       "      <td>How to improve communication skills?</td>\n",
       "      <td>0</td>\n",
       "    </tr>\n",
       "    <tr>\n",
       "      <th>2</th>\n",
       "      <td>2</td>\n",
       "      <td>5</td>\n",
       "      <td>6</td>\n",
       "      <td>What is the best way to save money?</td>\n",
       "      <td>How to start freelancing as a student?</td>\n",
       "      <td>0</td>\n",
       "    </tr>\n",
       "    <tr>\n",
       "      <th>3</th>\n",
       "      <td>3</td>\n",
       "      <td>7</td>\n",
       "      <td>8</td>\n",
       "      <td>How to start freelancing as a student?</td>\n",
       "      <td>What is Artificial Intelligence?</td>\n",
       "      <td>0</td>\n",
       "    </tr>\n",
       "    <tr>\n",
       "      <th>4</th>\n",
       "      <td>4</td>\n",
       "      <td>9</td>\n",
       "      <td>10</td>\n",
       "      <td>What are the symptoms of diabetes?</td>\n",
       "      <td>What is the future of electric vehicles?</td>\n",
       "      <td>0</td>\n",
       "    </tr>\n",
       "  </tbody>\n",
       "</table>\n",
       "</div>"
      ],
      "text/plain": [
       "   id  qid1  qid2                               question1  \\\n",
       "0   0     1     2    What is the best way to lose weight?   \n",
       "1   1     3     4            How can I build good habits?   \n",
       "2   2     5     6     What is the best way to save money?   \n",
       "3   3     7     8  How to start freelancing as a student?   \n",
       "4   4     9    10      What are the symptoms of diabetes?   \n",
       "\n",
       "                                  question2  is_duplicate  \n",
       "0      What is the best way to lose weight?             1  \n",
       "1      How to improve communication skills?             0  \n",
       "2    How to start freelancing as a student?             0  \n",
       "3          What is Artificial Intelligence?             0  \n",
       "4  What is the future of electric vehicles?             0  "
      ]
     },
     "execution_count": 36,
     "metadata": {},
     "output_type": "execute_result"
    }
   ],
   "source": [
    "df3.head()"
   ]
  },
  {
   "cell_type": "code",
   "execution_count": 37,
   "id": "1c3b9789-6571-4f41-a26b-2604e7e82c96",
   "metadata": {
    "id": "1c3b9789-6571-4f41-a26b-2604e7e82c96",
    "outputId": "5cb25650-3029-4a96-cab8-1ccd426feb27"
   },
   "outputs": [
    {
     "data": {
      "text/plain": [
       "id              0\n",
       "qid1            0\n",
       "qid2            0\n",
       "question1       0\n",
       "question2       0\n",
       "is_duplicate    0\n",
       "dtype: int64"
      ]
     },
     "execution_count": 37,
     "metadata": {},
     "output_type": "execute_result"
    }
   ],
   "source": [
    "df3.isnull().sum()"
   ]
  },
  {
   "cell_type": "code",
   "execution_count": 38,
   "id": "d8c0c421-151b-41d8-96ea-79582ed352de",
   "metadata": {
    "id": "d8c0c421-151b-41d8-96ea-79582ed352de",
    "outputId": "0098d3ec-fd13-4f14-ac2a-21ca757a40bd"
   },
   "outputs": [
    {
     "data": {
      "text/html": [
       "<div>\n",
       "<style scoped>\n",
       "    .dataframe tbody tr th:only-of-type {\n",
       "        vertical-align: middle;\n",
       "    }\n",
       "\n",
       "    .dataframe tbody tr th {\n",
       "        vertical-align: top;\n",
       "    }\n",
       "\n",
       "    .dataframe thead th {\n",
       "        text-align: right;\n",
       "    }\n",
       "</style>\n",
       "<table border=\"1\" class=\"dataframe\">\n",
       "  <thead>\n",
       "    <tr style=\"text-align: right;\">\n",
       "      <th></th>\n",
       "      <th>id</th>\n",
       "      <th>qid1</th>\n",
       "      <th>qid2</th>\n",
       "      <th>question1</th>\n",
       "      <th>question2</th>\n",
       "      <th>is_duplicate</th>\n",
       "    </tr>\n",
       "  </thead>\n",
       "  <tbody>\n",
       "    <tr>\n",
       "      <th>0</th>\n",
       "      <td>0</td>\n",
       "      <td>1</td>\n",
       "      <td>2</td>\n",
       "      <td>What is the best way to lose weight?</td>\n",
       "      <td>What is the best way to lose weight?</td>\n",
       "      <td>1</td>\n",
       "    </tr>\n",
       "    <tr>\n",
       "      <th>1</th>\n",
       "      <td>1</td>\n",
       "      <td>3</td>\n",
       "      <td>4</td>\n",
       "      <td>How can I build good habits?</td>\n",
       "      <td>How to improve communication skills?</td>\n",
       "      <td>0</td>\n",
       "    </tr>\n",
       "    <tr>\n",
       "      <th>2</th>\n",
       "      <td>2</td>\n",
       "      <td>5</td>\n",
       "      <td>6</td>\n",
       "      <td>What is the best way to save money?</td>\n",
       "      <td>How to start freelancing as a student?</td>\n",
       "      <td>0</td>\n",
       "    </tr>\n",
       "    <tr>\n",
       "      <th>3</th>\n",
       "      <td>3</td>\n",
       "      <td>7</td>\n",
       "      <td>8</td>\n",
       "      <td>How to start freelancing as a student?</td>\n",
       "      <td>What is Artificial Intelligence?</td>\n",
       "      <td>0</td>\n",
       "    </tr>\n",
       "    <tr>\n",
       "      <th>4</th>\n",
       "      <td>4</td>\n",
       "      <td>9</td>\n",
       "      <td>10</td>\n",
       "      <td>What are the symptoms of diabetes?</td>\n",
       "      <td>What is the future of electric vehicles?</td>\n",
       "      <td>0</td>\n",
       "    </tr>\n",
       "  </tbody>\n",
       "</table>\n",
       "</div>"
      ],
      "text/plain": [
       "   id  qid1  qid2                               question1  \\\n",
       "0   0     1     2    What is the best way to lose weight?   \n",
       "1   1     3     4            How can I build good habits?   \n",
       "2   2     5     6     What is the best way to save money?   \n",
       "3   3     7     8  How to start freelancing as a student?   \n",
       "4   4     9    10      What are the symptoms of diabetes?   \n",
       "\n",
       "                                  question2  is_duplicate  \n",
       "0      What is the best way to lose weight?             1  \n",
       "1      How to improve communication skills?             0  \n",
       "2    How to start freelancing as a student?             0  \n",
       "3          What is Artificial Intelligence?             0  \n",
       "4  What is the future of electric vehicles?             0  "
      ]
     },
     "execution_count": 38,
     "metadata": {},
     "output_type": "execute_result"
    }
   ],
   "source": [
    "df3.head()"
   ]
  },
  {
   "cell_type": "code",
   "execution_count": 39,
   "id": "c66c4931-fc1a-48fd-8904-5ed2f632817e",
   "metadata": {
    "id": "c66c4931-fc1a-48fd-8904-5ed2f632817e",
    "outputId": "e07ca935-d766-401c-d0ea-60ff836a6aac"
   },
   "outputs": [
    {
     "data": {
      "text/plain": [
       "id              0\n",
       "qid1            0\n",
       "qid2            0\n",
       "question1       0\n",
       "question2       0\n",
       "is_duplicate    0\n",
       "dtype: int64"
      ]
     },
     "execution_count": 39,
     "metadata": {},
     "output_type": "execute_result"
    }
   ],
   "source": [
    "df3.isnull().sum()"
   ]
  },
  {
   "cell_type": "code",
   "execution_count": 40,
   "id": "9528706a-c0c4-40f5-91e2-b381fcdde0ac",
   "metadata": {
    "id": "9528706a-c0c4-40f5-91e2-b381fcdde0ac",
    "outputId": "4b99c232-5d0d-4d41-9b26-1f95c91b86f6"
   },
   "outputs": [
    {
     "data": {
      "text/plain": [
       "0"
      ]
     },
     "execution_count": 40,
     "metadata": {},
     "output_type": "execute_result"
    }
   ],
   "source": [
    "df3.duplicated().sum()"
   ]
  },
  {
   "cell_type": "code",
   "execution_count": 41,
   "id": "4bb49649-604f-451f-a1de-5a7206d1e3bf",
   "metadata": {
    "id": "4bb49649-604f-451f-a1de-5a7206d1e3bf",
    "outputId": "f1280050-20c0-4095-e4a0-03537cc86ab3"
   },
   "outputs": [
    {
     "name": "stdout",
     "output_type": "stream",
     "text": [
      "is_duplicate\n",
      "1    1555\n",
      "0    1445\n",
      "Name: count, dtype: int64\n",
      "is_duplicate\n",
      "1    51.833333\n",
      "0    48.166667\n",
      "Name: count, dtype: float64\n"
     ]
    },
    {
     "data": {
      "text/plain": [
       "<Axes: xlabel='is_duplicate'>"
      ]
     },
     "execution_count": 41,
     "metadata": {},
     "output_type": "execute_result"
    },
    {
     "data": {
      "image/png": "[encoded data removed]",
      "text/plain": [
       "<Figure size 640x480 with 1 Axes>"
      ]
     },
     "metadata": {},
     "output_type": "display_data"
    }
   ],
   "source": [
    "# Distribution of duplicate and non-duplicate questions\n",
    "\n",
    "print(df3['is_duplicate'].value_counts())\n",
    "print((df3['is_duplicate'].value_counts()/df2['is_duplicate'].count())*100)\n",
    "df3['is_duplicate'].value_counts().plot(kind='bar')"
   ]
  },
  {
   "cell_type": "code",
   "execution_count": 42,
   "id": "cb54758d-a9c3-4363-8154-2f11a514e78c",
   "metadata": {
    "id": "cb54758d-a9c3-4363-8154-2f11a514e78c",
    "outputId": "10937941-2aa6-41dc-94e6-9ef2410e9632"
   },
   "outputs": [
    {
     "name": "stdout",
     "output_type": "stream",
     "text": [
      "Number of unique questions 6000\n",
      "Number of questions getting repeated 0\n"
     ]
    }
   ],
   "source": [
    "# Repeated questions\n",
    "\n",
    "qid = pd.Series(df3['qid1'].tolist() + df3['qid2'].tolist())\n",
    "print('Number of unique questions',np.unique(qid).shape[0])\n",
    "x = qid.value_counts()>1\n",
    "print('Number of questions getting repeated',x[x].shape[0])"
   ]
  },
  {
   "cell_type": "code",
   "execution_count": 43,
   "id": "408f60aa-8824-4ac2-95a5-23bceb666f1f",
   "metadata": {
    "id": "408f60aa-8824-4ac2-95a5-23bceb666f1f",
    "outputId": "a0f07741-70d9-4c49-a3cc-7afabadc3fb6"
   },
   "outputs": [
    {
     "data": {
      "image/png": "[encoded data removed]",
      "text/plain": [
       "<Figure size 640x480 with 1 Axes>"
      ]
     },
     "metadata": {},
     "output_type": "display_data"
    }
   ],
   "source": [
    "# Repeated questions histogram\n",
    "\n",
    "plt.hist(qid.value_counts().values,bins=160)\n",
    "plt.yscale('log')\n",
    "plt.show()"
   ]
  },
  {
   "cell_type": "code",
   "execution_count": 46,
   "id": "b0b8d2dc-da75-42b5-9195-57b5f39d6d63",
   "metadata": {
    "id": "b0b8d2dc-da75-42b5-9195-57b5f39d6d63"
   },
   "outputs": [],
   "source": [
    "# Feature Engineering\n",
    "\n",
    "df3['q1_len'] = df3['question1'].str.len()\n",
    "df3['q2_len'] = df3['question2'].str.len()"
   ]
  },
  {
   "cell_type": "code",
   "execution_count": 47,
   "id": "d27acfa1-d7ce-4ecd-b9f1-e7752bb66855",
   "metadata": {
    "id": "d27acfa1-d7ce-4ecd-b9f1-e7752bb66855",
    "outputId": "f7ce19ad-b2e4-46dd-e1be-a41002daf6c0"
   },
   "outputs": [
    {
     "data": {
      "text/html": [
       "<div>\n",
       "<style scoped>\n",
       "    .dataframe tbody tr th:only-of-type {\n",
       "        vertical-align: middle;\n",
       "    }\n",
       "\n",
       "    .dataframe tbody tr th {\n",
       "        vertical-align: top;\n",
       "    }\n",
       "\n",
       "    .dataframe thead th {\n",
       "        text-align: right;\n",
       "    }\n",
       "</style>\n",
       "<table border=\"1\" class=\"dataframe\">\n",
       "  <thead>\n",
       "    <tr style=\"text-align: right;\">\n",
       "      <th></th>\n",
       "      <th>id</th>\n",
       "      <th>qid1</th>\n",
       "      <th>qid2</th>\n",
       "      <th>question1</th>\n",
       "      <th>question2</th>\n",
       "      <th>is_duplicate</th>\n",
       "      <th>q1_len</th>\n",
       "      <th>q2_len</th>\n",
       "    </tr>\n",
       "  </thead>\n",
       "  <tbody>\n",
       "    <tr>\n",
       "      <th>0</th>\n",
       "      <td>0</td>\n",
       "      <td>1</td>\n",
       "      <td>2</td>\n",
       "      <td>What is the best way to lose weight?</td>\n",
       "      <td>What is the best way to lose weight?</td>\n",
       "      <td>1</td>\n",
       "      <td>36</td>\n",
       "      <td>36</td>\n",
       "    </tr>\n",
       "    <tr>\n",
       "      <th>1</th>\n",
       "      <td>1</td>\n",
       "      <td>3</td>\n",
       "      <td>4</td>\n",
       "      <td>How can I build good habits?</td>\n",
       "      <td>How to improve communication skills?</td>\n",
       "      <td>0</td>\n",
       "      <td>28</td>\n",
       "      <td>36</td>\n",
       "    </tr>\n",
       "    <tr>\n",
       "      <th>2</th>\n",
       "      <td>2</td>\n",
       "      <td>5</td>\n",
       "      <td>6</td>\n",
       "      <td>What is the best way to save money?</td>\n",
       "      <td>How to start freelancing as a student?</td>\n",
       "      <td>0</td>\n",
       "      <td>35</td>\n",
       "      <td>38</td>\n",
       "    </tr>\n",
       "    <tr>\n",
       "      <th>3</th>\n",
       "      <td>3</td>\n",
       "      <td>7</td>\n",
       "      <td>8</td>\n",
       "      <td>How to start freelancing as a student?</td>\n",
       "      <td>What is Artificial Intelligence?</td>\n",
       "      <td>0</td>\n",
       "      <td>38</td>\n",
       "      <td>32</td>\n",
       "    </tr>\n",
       "    <tr>\n",
       "      <th>4</th>\n",
       "      <td>4</td>\n",
       "      <td>9</td>\n",
       "      <td>10</td>\n",
       "      <td>What are the symptoms of diabetes?</td>\n",
       "      <td>What is the future of electric vehicles?</td>\n",
       "      <td>0</td>\n",
       "      <td>34</td>\n",
       "      <td>40</td>\n",
       "    </tr>\n",
       "  </tbody>\n",
       "</table>\n",
       "</div>"
      ],
      "text/plain": [
       "   id  qid1  qid2                               question1  \\\n",
       "0   0     1     2    What is the best way to lose weight?   \n",
       "1   1     3     4            How can I build good habits?   \n",
       "2   2     5     6     What is the best way to save money?   \n",
       "3   3     7     8  How to start freelancing as a student?   \n",
       "4   4     9    10      What are the symptoms of diabetes?   \n",
       "\n",
       "                                  question2  is_duplicate  q1_len  q2_len  \n",
       "0      What is the best way to lose weight?             1      36      36  \n",
       "1      How to improve communication skills?             0      28      36  \n",
       "2    How to start freelancing as a student?             0      35      38  \n",
       "3          What is Artificial Intelligence?             0      38      32  \n",
       "4  What is the future of electric vehicles?             0      34      40  "
      ]
     },
     "execution_count": 47,
     "metadata": {},
     "output_type": "execute_result"
    }
   ],
   "source": [
    "df3.head()"
   ]
  },
  {
   "cell_type": "code",
   "execution_count": 48,
   "id": "9eebe4c6-a0cc-4f45-96c5-6e4db1d7a4cd",
   "metadata": {
    "id": "9eebe4c6-a0cc-4f45-96c5-6e4db1d7a4cd",
    "outputId": "a87e2bf9-2184-4ea1-e381-751b85ee6af5"
   },
   "outputs": [
    {
     "data": {
      "text/html": [
       "<div>\n",
       "<style scoped>\n",
       "    .dataframe tbody tr th:only-of-type {\n",
       "        vertical-align: middle;\n",
       "    }\n",
       "\n",
       "    .dataframe tbody tr th {\n",
       "        vertical-align: top;\n",
       "    }\n",
       "\n",
       "    .dataframe thead th {\n",
       "        text-align: right;\n",
       "    }\n",
       "</style>\n",
       "<table border=\"1\" class=\"dataframe\">\n",
       "  <thead>\n",
       "    <tr style=\"text-align: right;\">\n",
       "      <th></th>\n",
       "      <th>id</th>\n",
       "      <th>qid1</th>\n",
       "      <th>qid2</th>\n",
       "      <th>question1</th>\n",
       "      <th>question2</th>\n",
       "      <th>is_duplicate</th>\n",
       "      <th>q1_len</th>\n",
       "      <th>q2_len</th>\n",
       "      <th>q1_num_words</th>\n",
       "      <th>q2_num_words</th>\n",
       "    </tr>\n",
       "  </thead>\n",
       "  <tbody>\n",
       "    <tr>\n",
       "      <th>0</th>\n",
       "      <td>0</td>\n",
       "      <td>1</td>\n",
       "      <td>2</td>\n",
       "      <td>What is the best way to lose weight?</td>\n",
       "      <td>What is the best way to lose weight?</td>\n",
       "      <td>1</td>\n",
       "      <td>36</td>\n",
       "      <td>36</td>\n",
       "      <td>8</td>\n",
       "      <td>8</td>\n",
       "    </tr>\n",
       "    <tr>\n",
       "      <th>1</th>\n",
       "      <td>1</td>\n",
       "      <td>3</td>\n",
       "      <td>4</td>\n",
       "      <td>How can I build good habits?</td>\n",
       "      <td>How to improve communication skills?</td>\n",
       "      <td>0</td>\n",
       "      <td>28</td>\n",
       "      <td>36</td>\n",
       "      <td>6</td>\n",
       "      <td>5</td>\n",
       "    </tr>\n",
       "    <tr>\n",
       "      <th>2</th>\n",
       "      <td>2</td>\n",
       "      <td>5</td>\n",
       "      <td>6</td>\n",
       "      <td>What is the best way to save money?</td>\n",
       "      <td>How to start freelancing as a student?</td>\n",
       "      <td>0</td>\n",
       "      <td>35</td>\n",
       "      <td>38</td>\n",
       "      <td>8</td>\n",
       "      <td>7</td>\n",
       "    </tr>\n",
       "    <tr>\n",
       "      <th>3</th>\n",
       "      <td>3</td>\n",
       "      <td>7</td>\n",
       "      <td>8</td>\n",
       "      <td>How to start freelancing as a student?</td>\n",
       "      <td>What is Artificial Intelligence?</td>\n",
       "      <td>0</td>\n",
       "      <td>38</td>\n",
       "      <td>32</td>\n",
       "      <td>7</td>\n",
       "      <td>4</td>\n",
       "    </tr>\n",
       "    <tr>\n",
       "      <th>4</th>\n",
       "      <td>4</td>\n",
       "      <td>9</td>\n",
       "      <td>10</td>\n",
       "      <td>What are the symptoms of diabetes?</td>\n",
       "      <td>What is the future of electric vehicles?</td>\n",
       "      <td>0</td>\n",
       "      <td>34</td>\n",
       "      <td>40</td>\n",
       "      <td>6</td>\n",
       "      <td>7</td>\n",
       "    </tr>\n",
       "  </tbody>\n",
       "</table>\n",
       "</div>"
      ],
      "text/plain": [
       "   id  qid1  qid2                               question1  \\\n",
       "0   0     1     2    What is the best way to lose weight?   \n",
       "1   1     3     4            How can I build good habits?   \n",
       "2   2     5     6     What is the best way to save money?   \n",
       "3   3     7     8  How to start freelancing as a student?   \n",
       "4   4     9    10      What are the symptoms of diabetes?   \n",
       "\n",
       "                                  question2  is_duplicate  q1_len  q2_len  \\\n",
       "0      What is the best way to lose weight?             1      36      36   \n",
       "1      How to improve communication skills?             0      28      36   \n",
       "2    How to start freelancing as a student?             0      35      38   \n",
       "3          What is Artificial Intelligence?             0      38      32   \n",
       "4  What is the future of electric vehicles?             0      34      40   \n",
       "\n",
       "   q1_num_words  q2_num_words  \n",
       "0             8             8  \n",
       "1             6             5  \n",
       "2             8             7  \n",
       "3             7             4  \n",
       "4             6             7  "
      ]
     },
     "execution_count": 48,
     "metadata": {},
     "output_type": "execute_result"
    }
   ],
   "source": [
    "df3['q1_num_words'] = df3['question1'].apply(lambda row: len(row.split(\" \")))\n",
    "df3['q2_num_words'] = df3['question2'].apply(lambda row: len(row.split(\" \")))\n",
    "df3.head()"
   ]
  },
  {
   "cell_type": "code",
   "execution_count": 49,
   "id": "68872f72-e97b-45f8-bb17-dab0f6ab570d",
   "metadata": {
    "id": "68872f72-e97b-45f8-bb17-dab0f6ab570d"
   },
   "outputs": [],
   "source": [
    "def common_words(row):\n",
    "    w1 = set(map(lambda word: word.lower().strip(), row['question1'].split(\" \")))\n",
    "    w2 = set(map(lambda word: word.lower().strip(), row['question2'].split(\" \")))\n",
    "    return len(w1 & w2)"
   ]
  },
  {
   "cell_type": "code",
   "execution_count": 50,
   "id": "22427246-564a-4cf7-8ae6-e6a914362ba9",
   "metadata": {
    "id": "22427246-564a-4cf7-8ae6-e6a914362ba9",
    "outputId": "3a171029-4c90-4bae-c3dd-e92c0508c742"
   },
   "outputs": [
    {
     "data": {
      "text/html": [
       "<div>\n",
       "<style scoped>\n",
       "    .dataframe tbody tr th:only-of-type {\n",
       "        vertical-align: middle;\n",
       "    }\n",
       "\n",
       "    .dataframe tbody tr th {\n",
       "        vertical-align: top;\n",
       "    }\n",
       "\n",
       "    .dataframe thead th {\n",
       "        text-align: right;\n",
       "    }\n",
       "</style>\n",
       "<table border=\"1\" class=\"dataframe\">\n",
       "  <thead>\n",
       "    <tr style=\"text-align: right;\">\n",
       "      <th></th>\n",
       "      <th>id</th>\n",
       "      <th>qid1</th>\n",
       "      <th>qid2</th>\n",
       "      <th>question1</th>\n",
       "      <th>question2</th>\n",
       "      <th>is_duplicate</th>\n",
       "      <th>q1_len</th>\n",
       "      <th>q2_len</th>\n",
       "      <th>q1_num_words</th>\n",
       "      <th>q2_num_words</th>\n",
       "      <th>word_common</th>\n",
       "    </tr>\n",
       "  </thead>\n",
       "  <tbody>\n",
       "    <tr>\n",
       "      <th>0</th>\n",
       "      <td>0</td>\n",
       "      <td>1</td>\n",
       "      <td>2</td>\n",
       "      <td>What is the best way to lose weight?</td>\n",
       "      <td>What is the best way to lose weight?</td>\n",
       "      <td>1</td>\n",
       "      <td>36</td>\n",
       "      <td>36</td>\n",
       "      <td>8</td>\n",
       "      <td>8</td>\n",
       "      <td>8</td>\n",
       "    </tr>\n",
       "    <tr>\n",
       "      <th>1</th>\n",
       "      <td>1</td>\n",
       "      <td>3</td>\n",
       "      <td>4</td>\n",
       "      <td>How can I build good habits?</td>\n",
       "      <td>How to improve communication skills?</td>\n",
       "      <td>0</td>\n",
       "      <td>28</td>\n",
       "      <td>36</td>\n",
       "      <td>6</td>\n",
       "      <td>5</td>\n",
       "      <td>1</td>\n",
       "    </tr>\n",
       "    <tr>\n",
       "      <th>2</th>\n",
       "      <td>2</td>\n",
       "      <td>5</td>\n",
       "      <td>6</td>\n",
       "      <td>What is the best way to save money?</td>\n",
       "      <td>How to start freelancing as a student?</td>\n",
       "      <td>0</td>\n",
       "      <td>35</td>\n",
       "      <td>38</td>\n",
       "      <td>8</td>\n",
       "      <td>7</td>\n",
       "      <td>1</td>\n",
       "    </tr>\n",
       "    <tr>\n",
       "      <th>3</th>\n",
       "      <td>3</td>\n",
       "      <td>7</td>\n",
       "      <td>8</td>\n",
       "      <td>How to start freelancing as a student?</td>\n",
       "      <td>What is Artificial Intelligence?</td>\n",
       "      <td>0</td>\n",
       "      <td>38</td>\n",
       "      <td>32</td>\n",
       "      <td>7</td>\n",
       "      <td>4</td>\n",
       "      <td>0</td>\n",
       "    </tr>\n",
       "    <tr>\n",
       "      <th>4</th>\n",
       "      <td>4</td>\n",
       "      <td>9</td>\n",
       "      <td>10</td>\n",
       "      <td>What are the symptoms of diabetes?</td>\n",
       "      <td>What is the future of electric vehicles?</td>\n",
       "      <td>0</td>\n",
       "      <td>34</td>\n",
       "      <td>40</td>\n",
       "      <td>6</td>\n",
       "      <td>7</td>\n",
       "      <td>3</td>\n",
       "    </tr>\n",
       "  </tbody>\n",
       "</table>\n",
       "</div>"
      ],
      "text/plain": [
       "   id  qid1  qid2                               question1  \\\n",
       "0   0     1     2    What is the best way to lose weight?   \n",
       "1   1     3     4            How can I build good habits?   \n",
       "2   2     5     6     What is the best way to save money?   \n",
       "3   3     7     8  How to start freelancing as a student?   \n",
       "4   4     9    10      What are the symptoms of diabetes?   \n",
       "\n",
       "                                  question2  is_duplicate  q1_len  q2_len  \\\n",
       "0      What is the best way to lose weight?             1      36      36   \n",
       "1      How to improve communication skills?             0      28      36   \n",
       "2    How to start freelancing as a student?             0      35      38   \n",
       "3          What is Artificial Intelligence?             0      38      32   \n",
       "4  What is the future of electric vehicles?             0      34      40   \n",
       "\n",
       "   q1_num_words  q2_num_words  word_common  \n",
       "0             8             8            8  \n",
       "1             6             5            1  \n",
       "2             8             7            1  \n",
       "3             7             4            0  \n",
       "4             6             7            3  "
      ]
     },
     "execution_count": 50,
     "metadata": {},
     "output_type": "execute_result"
    }
   ],
   "source": [
    "df3['word_common'] = df3.apply(common_words, axis=1)\n",
    "df3.head()"
   ]
  },
  {
   "cell_type": "code",
   "execution_count": 51,
   "id": "94ff7d6d-00ae-4709-b42a-56c338a83211",
   "metadata": {
    "id": "94ff7d6d-00ae-4709-b42a-56c338a83211"
   },
   "outputs": [],
   "source": [
    "def total_words(row):\n",
    "    w1 = set(map(lambda word: word.lower().strip(), row['question1'].split(\" \")))\n",
    "    w2 = set(map(lambda word: word.lower().strip(), row['question2'].split(\" \")))\n",
    "    return (len(w1) + len(w2))"
   ]
  },
  {
   "cell_type": "code",
   "execution_count": 52,
   "id": "cab7447e-a9ba-4ffd-9f8e-304d587b15df",
   "metadata": {
    "id": "cab7447e-a9ba-4ffd-9f8e-304d587b15df",
    "outputId": "2a8b0804-be77-4484-906f-8945ee56e3bc"
   },
   "outputs": [
    {
     "data": {
      "text/html": [
       "<div>\n",
       "<style scoped>\n",
       "    .dataframe tbody tr th:only-of-type {\n",
       "        vertical-align: middle;\n",
       "    }\n",
       "\n",
       "    .dataframe tbody tr th {\n",
       "        vertical-align: top;\n",
       "    }\n",
       "\n",
       "    .dataframe thead th {\n",
       "        text-align: right;\n",
       "    }\n",
       "</style>\n",
       "<table border=\"1\" class=\"dataframe\">\n",
       "  <thead>\n",
       "    <tr style=\"text-align: right;\">\n",
       "      <th></th>\n",
       "      <th>id</th>\n",
       "      <th>qid1</th>\n",
       "      <th>qid2</th>\n",
       "      <th>question1</th>\n",
       "      <th>question2</th>\n",
       "      <th>is_duplicate</th>\n",
       "      <th>q1_len</th>\n",
       "      <th>q2_len</th>\n",
       "      <th>q1_num_words</th>\n",
       "      <th>q2_num_words</th>\n",
       "      <th>word_common</th>\n",
       "      <th>word_total</th>\n",
       "    </tr>\n",
       "  </thead>\n",
       "  <tbody>\n",
       "    <tr>\n",
       "      <th>0</th>\n",
       "      <td>0</td>\n",
       "      <td>1</td>\n",
       "      <td>2</td>\n",
       "      <td>What is the best way to lose weight?</td>\n",
       "      <td>What is the best way to lose weight?</td>\n",
       "      <td>1</td>\n",
       "      <td>36</td>\n",
       "      <td>36</td>\n",
       "      <td>8</td>\n",
       "      <td>8</td>\n",
       "      <td>8</td>\n",
       "      <td>16</td>\n",
       "    </tr>\n",
       "    <tr>\n",
       "      <th>1</th>\n",
       "      <td>1</td>\n",
       "      <td>3</td>\n",
       "      <td>4</td>\n",
       "      <td>How can I build good habits?</td>\n",
       "      <td>How to improve communication skills?</td>\n",
       "      <td>0</td>\n",
       "      <td>28</td>\n",
       "      <td>36</td>\n",
       "      <td>6</td>\n",
       "      <td>5</td>\n",
       "      <td>1</td>\n",
       "      <td>11</td>\n",
       "    </tr>\n",
       "    <tr>\n",
       "      <th>2</th>\n",
       "      <td>2</td>\n",
       "      <td>5</td>\n",
       "      <td>6</td>\n",
       "      <td>What is the best way to save money?</td>\n",
       "      <td>How to start freelancing as a student?</td>\n",
       "      <td>0</td>\n",
       "      <td>35</td>\n",
       "      <td>38</td>\n",
       "      <td>8</td>\n",
       "      <td>7</td>\n",
       "      <td>1</td>\n",
       "      <td>15</td>\n",
       "    </tr>\n",
       "    <tr>\n",
       "      <th>3</th>\n",
       "      <td>3</td>\n",
       "      <td>7</td>\n",
       "      <td>8</td>\n",
       "      <td>How to start freelancing as a student?</td>\n",
       "      <td>What is Artificial Intelligence?</td>\n",
       "      <td>0</td>\n",
       "      <td>38</td>\n",
       "      <td>32</td>\n",
       "      <td>7</td>\n",
       "      <td>4</td>\n",
       "      <td>0</td>\n",
       "      <td>11</td>\n",
       "    </tr>\n",
       "    <tr>\n",
       "      <th>4</th>\n",
       "      <td>4</td>\n",
       "      <td>9</td>\n",
       "      <td>10</td>\n",
       "      <td>What are the symptoms of diabetes?</td>\n",
       "      <td>What is the future of electric vehicles?</td>\n",
       "      <td>0</td>\n",
       "      <td>34</td>\n",
       "      <td>40</td>\n",
       "      <td>6</td>\n",
       "      <td>7</td>\n",
       "      <td>3</td>\n",
       "      <td>13</td>\n",
       "    </tr>\n",
       "  </tbody>\n",
       "</table>\n",
       "</div>"
      ],
      "text/plain": [
       "   id  qid1  qid2                               question1  \\\n",
       "0   0     1     2    What is the best way to lose weight?   \n",
       "1   1     3     4            How can I build good habits?   \n",
       "2   2     5     6     What is the best way to save money?   \n",
       "3   3     7     8  How to start freelancing as a student?   \n",
       "4   4     9    10      What are the symptoms of diabetes?   \n",
       "\n",
       "                                  question2  is_duplicate  q1_len  q2_len  \\\n",
       "0      What is the best way to lose weight?             1      36      36   \n",
       "1      How to improve communication skills?             0      28      36   \n",
       "2    How to start freelancing as a student?             0      35      38   \n",
       "3          What is Artificial Intelligence?             0      38      32   \n",
       "4  What is the future of electric vehicles?             0      34      40   \n",
       "\n",
       "   q1_num_words  q2_num_words  word_common  word_total  \n",
       "0             8             8            8          16  \n",
       "1             6             5            1          11  \n",
       "2             8             7            1          15  \n",
       "3             7             4            0          11  \n",
       "4             6             7            3          13  "
      ]
     },
     "execution_count": 52,
     "metadata": {},
     "output_type": "execute_result"
    }
   ],
   "source": [
    "df3['word_total'] = df3.apply(total_words, axis=1)\n",
    "df3.head()"
   ]
  },
  {
   "cell_type": "code",
   "execution_count": 53,
   "id": "90d8f477-1b10-4e81-8593-1414ee6ee23c",
   "metadata": {
    "id": "90d8f477-1b10-4e81-8593-1414ee6ee23c",
    "outputId": "26198c04-5f55-481e-d2a9-c2b397a9f70d"
   },
   "outputs": [
    {
     "data": {
      "text/html": [
       "<div>\n",
       "<style scoped>\n",
       "    .dataframe tbody tr th:only-of-type {\n",
       "        vertical-align: middle;\n",
       "    }\n",
       "\n",
       "    .dataframe tbody tr th {\n",
       "        vertical-align: top;\n",
       "    }\n",
       "\n",
       "    .dataframe thead th {\n",
       "        text-align: right;\n",
       "    }\n",
       "</style>\n",
       "<table border=\"1\" class=\"dataframe\">\n",
       "  <thead>\n",
       "    <tr style=\"text-align: right;\">\n",
       "      <th></th>\n",
       "      <th>id</th>\n",
       "      <th>qid1</th>\n",
       "      <th>qid2</th>\n",
       "      <th>question1</th>\n",
       "      <th>question2</th>\n",
       "      <th>is_duplicate</th>\n",
       "      <th>q1_len</th>\n",
       "      <th>q2_len</th>\n",
       "      <th>q1_num_words</th>\n",
       "      <th>q2_num_words</th>\n",
       "      <th>word_common</th>\n",
       "      <th>word_total</th>\n",
       "      <th>word_share</th>\n",
       "    </tr>\n",
       "  </thead>\n",
       "  <tbody>\n",
       "    <tr>\n",
       "      <th>0</th>\n",
       "      <td>0</td>\n",
       "      <td>1</td>\n",
       "      <td>2</td>\n",
       "      <td>What is the best way to lose weight?</td>\n",
       "      <td>What is the best way to lose weight?</td>\n",
       "      <td>1</td>\n",
       "      <td>36</td>\n",
       "      <td>36</td>\n",
       "      <td>8</td>\n",
       "      <td>8</td>\n",
       "      <td>8</td>\n",
       "      <td>16</td>\n",
       "      <td>0.50</td>\n",
       "    </tr>\n",
       "    <tr>\n",
       "      <th>1</th>\n",
       "      <td>1</td>\n",
       "      <td>3</td>\n",
       "      <td>4</td>\n",
       "      <td>How can I build good habits?</td>\n",
       "      <td>How to improve communication skills?</td>\n",
       "      <td>0</td>\n",
       "      <td>28</td>\n",
       "      <td>36</td>\n",
       "      <td>6</td>\n",
       "      <td>5</td>\n",
       "      <td>1</td>\n",
       "      <td>11</td>\n",
       "      <td>0.09</td>\n",
       "    </tr>\n",
       "    <tr>\n",
       "      <th>2</th>\n",
       "      <td>2</td>\n",
       "      <td>5</td>\n",
       "      <td>6</td>\n",
       "      <td>What is the best way to save money?</td>\n",
       "      <td>How to start freelancing as a student?</td>\n",
       "      <td>0</td>\n",
       "      <td>35</td>\n",
       "      <td>38</td>\n",
       "      <td>8</td>\n",
       "      <td>7</td>\n",
       "      <td>1</td>\n",
       "      <td>15</td>\n",
       "      <td>0.07</td>\n",
       "    </tr>\n",
       "    <tr>\n",
       "      <th>3</th>\n",
       "      <td>3</td>\n",
       "      <td>7</td>\n",
       "      <td>8</td>\n",
       "      <td>How to start freelancing as a student?</td>\n",
       "      <td>What is Artificial Intelligence?</td>\n",
       "      <td>0</td>\n",
       "      <td>38</td>\n",
       "      <td>32</td>\n",
       "      <td>7</td>\n",
       "      <td>4</td>\n",
       "      <td>0</td>\n",
       "      <td>11</td>\n",
       "      <td>0.00</td>\n",
       "    </tr>\n",
       "    <tr>\n",
       "      <th>4</th>\n",
       "      <td>4</td>\n",
       "      <td>9</td>\n",
       "      <td>10</td>\n",
       "      <td>What are the symptoms of diabetes?</td>\n",
       "      <td>What is the future of electric vehicles?</td>\n",
       "      <td>0</td>\n",
       "      <td>34</td>\n",
       "      <td>40</td>\n",
       "      <td>6</td>\n",
       "      <td>7</td>\n",
       "      <td>3</td>\n",
       "      <td>13</td>\n",
       "      <td>0.23</td>\n",
       "    </tr>\n",
       "  </tbody>\n",
       "</table>\n",
       "</div>"
      ],
      "text/plain": [
       "   id  qid1  qid2                               question1  \\\n",
       "0   0     1     2    What is the best way to lose weight?   \n",
       "1   1     3     4            How can I build good habits?   \n",
       "2   2     5     6     What is the best way to save money?   \n",
       "3   3     7     8  How to start freelancing as a student?   \n",
       "4   4     9    10      What are the symptoms of diabetes?   \n",
       "\n",
       "                                  question2  is_duplicate  q1_len  q2_len  \\\n",
       "0      What is the best way to lose weight?             1      36      36   \n",
       "1      How to improve communication skills?             0      28      36   \n",
       "2    How to start freelancing as a student?             0      35      38   \n",
       "3          What is Artificial Intelligence?             0      38      32   \n",
       "4  What is the future of electric vehicles?             0      34      40   \n",
       "\n",
       "   q1_num_words  q2_num_words  word_common  word_total  word_share  \n",
       "0             8             8            8          16        0.50  \n",
       "1             6             5            1          11        0.09  \n",
       "2             8             7            1          15        0.07  \n",
       "3             7             4            0          11        0.00  \n",
       "4             6             7            3          13        0.23  "
      ]
     },
     "execution_count": 53,
     "metadata": {},
     "output_type": "execute_result"
    }
   ],
   "source": [
    "df3['word_share'] = round(df3['word_common']/df3['word_total'],2)\n",
    "df3.head()"
   ]
  },
  {
   "cell_type": "code",
   "execution_count": 56,
   "id": "48fa34dc-3791-4318-bc0a-37192eac915b",
   "metadata": {
    "id": "48fa34dc-3791-4318-bc0a-37192eac915b",
    "outputId": "49eb8e7c-57d9-4fc0-d320-841bab9b2512"
   },
   "outputs": [
    {
     "name": "stdout",
     "output_type": "stream",
     "text": [
      "minimum characters 18\n",
      "maximum characters 53\n",
      "average num of characters 33\n"
     ]
    },
    {
     "data": {
      "image/png": "[encoded data removed]",
      "text/plain": [
       "<Figure size 500x500 with 1 Axes>"
      ]
     },
     "metadata": {},
     "output_type": "display_data"
    }
   ],
   "source": [
    "# Analysis of features\n",
    "sns.displot(df3['q1_len'])\n",
    "print('minimum characters',df3['q1_len'].min())\n",
    "print('maximum characters',df3['q1_len'].max())\n",
    "print('average num of characters',int(df3['q1_len'].mean()))"
   ]
  },
  {
   "cell_type": "code",
   "execution_count": 57,
   "id": "2beccb76-daab-4263-bf46-4fdbc030aae7",
   "metadata": {
    "id": "2beccb76-daab-4263-bf46-4fdbc030aae7",
    "outputId": "6832e1ac-ba5b-47fd-b120-019d8278d5f6"
   },
   "outputs": [
    {
     "name": "stdout",
     "output_type": "stream",
     "text": [
      "minimum characters 18\n",
      "maximum characters 53\n",
      "average num of characters 33\n"
     ]
    },
    {
     "data": {
      "image/png": "[encoded data removed]",
      "text/plain": [
       "<Figure size 500x500 with 1 Axes>"
      ]
     },
     "metadata": {},
     "output_type": "display_data"
    }
   ],
   "source": [
    "sns.displot(df3['q2_len'])\n",
    "print('minimum characters',df3['q2_len'].min())\n",
    "print('maximum characters',df3['q2_len'].max())\n",
    "print('average num of characters',int(df3['q2_len'].mean()))"
   ]
  },
  {
   "cell_type": "code",
   "execution_count": 58,
   "id": "54846145-34dc-4fbf-a24f-9044dc8623d7",
   "metadata": {
    "id": "54846145-34dc-4fbf-a24f-9044dc8623d7",
    "outputId": "6c28710d-ff01-4b31-a1e1-43756b938cf7"
   },
   "outputs": [
    {
     "name": "stdout",
     "output_type": "stream",
     "text": [
      "minimum words 4\n",
      "maximum words 8\n",
      "average num of words 6\n"
     ]
    },
    {
     "data": {
      "image/png": "[encoded data removed]",
      "text/plain": [
       "<Figure size 500x500 with 1 Axes>"
      ]
     },
     "metadata": {},
     "output_type": "display_data"
    }
   ],
   "source": [
    "sns.displot(df3['q1_num_words'])\n",
    "print('minimum words',df3['q1_num_words'].min())\n",
    "print('maximum words',df3['q1_num_words'].max())\n",
    "print('average num of words',int(df3['q1_num_words'].mean()))"
   ]
  },
  {
   "cell_type": "code",
   "execution_count": null,
   "id": "99d0c4a9-b3ee-4735-80dc-6b8d54609061",
   "metadata": {
    "id": "99d0c4a9-b3ee-4735-80dc-6b8d54609061",
    "outputId": "3bcd9e99-4a20-4df3-ad90-1419c0bc231d"
   },
   "outputs": [
    {
     "name": "stdout",
     "output_type": "stream",
     "text": [
      "minimum words 1\n",
      "maximum words 237\n",
      "average num of words 11\n"
     ]
    },
    {
     "data": {
      "image/png": "[encoded data removed]",
      "text/plain": [
       "<Figure size 500x500 with 1 Axes>"
      ]
     },
     "metadata": {},
     "output_type": "display_data"
    }
   ],
   "source": [
    "sns.displot(new_df2['q2_num_words'])\n",
    "print('minimum words',new_df2['q2_num_words'].min())\n",
    "print('maximum words',new_df2['q2_num_words'].max())\n",
    "print('average num of words',int(new_df2['q2_num_words'].mean()))"
   ]
  },
  {
   "cell_type": "code",
   "execution_count": 59,
   "id": "86152571-6e64-4c49-a93a-8ba480fa958d",
   "metadata": {
    "id": "86152571-6e64-4c49-a93a-8ba480fa958d",
    "outputId": "3a7b1041-2205-43f6-b906-e6820944935e"
   },
   "outputs": [
    {
     "data": {
      "image/png": "[encoded data removed]",
      "text/plain": [
       "<Figure size 640x480 with 1 Axes>"
      ]
     },
     "metadata": {},
     "output_type": "display_data"
    }
   ],
   "source": [
    "# common words\n",
    "sns.distplot(df3[df3['is_duplicate'] == 0]['word_common'],label='non duplicate')\n",
    "sns.distplot(df3[df3['is_duplicate'] == 1]['word_common'],label='duplicate')\n",
    "plt.legend()\n",
    "plt.show()"
   ]
  },
  {
   "cell_type": "code",
   "execution_count": 60,
   "id": "d8f65bc6-613d-4295-937e-bc851f8ed9f2",
   "metadata": {
    "id": "d8f65bc6-613d-4295-937e-bc851f8ed9f2",
    "outputId": "a54548ae-e77e-4897-9f81-74348c91c437"
   },
   "outputs": [
    {
     "data": {
      "image/png": "[encoded data removed]",
      "text/plain": [
       "<Figure size 640x480 with 1 Axes>"
      ]
     },
     "metadata": {},
     "output_type": "display_data"
    }
   ],
   "source": [
    "# Total words\n",
    "sns.distplot(df3[df3['is_duplicate'] == 0]['word_total'], label='non duplicate')\n",
    "sns.distplot(df3[df3['is_duplicate'] == 1]['word_total'], label='duplicate')\n",
    "plt.legend()\n",
    "plt.show()\n"
   ]
  },
  {
   "cell_type": "code",
   "execution_count": 61,
   "id": "1c5e26a5-004a-4858-8494-f7db89163aef",
   "metadata": {
    "id": "1c5e26a5-004a-4858-8494-f7db89163aef",
    "outputId": "3173f758-89dc-4bf4-dcb4-9f06fb8a11d5"
   },
   "outputs": [
    {
     "data": {
      "image/png": "[encoded data removed]",
      "text/plain": [
       "<Figure size 640x480 with 1 Axes>"
      ]
     },
     "metadata": {},
     "output_type": "display_data"
    }
   ],
   "source": [
    "# word share\n",
    "sns.distplot(df3[df3['is_duplicate'] == 0]['word_share'],label='non duplicate')\n",
    "sns.distplot(df3[df3['is_duplicate'] == 1]['word_share'],label='duplicate')\n",
    "plt.legend()\n",
    "plt.show()"
   ]
  },
  {
   "cell_type": "code",
   "execution_count": 62,
   "id": "10068e9f-f18c-4d14-9d04-9b3df017fc8c",
   "metadata": {
    "id": "10068e9f-f18c-4d14-9d04-9b3df017fc8c",
    "outputId": "e88b683a-6031-4733-9381-834f1688fc5b"
   },
   "outputs": [
    {
     "data": {
      "text/html": [
       "<div>\n",
       "<style scoped>\n",
       "    .dataframe tbody tr th:only-of-type {\n",
       "        vertical-align: middle;\n",
       "    }\n",
       "\n",
       "    .dataframe tbody tr th {\n",
       "        vertical-align: top;\n",
       "    }\n",
       "\n",
       "    .dataframe thead th {\n",
       "        text-align: right;\n",
       "    }\n",
       "</style>\n",
       "<table border=\"1\" class=\"dataframe\">\n",
       "  <thead>\n",
       "    <tr style=\"text-align: right;\">\n",
       "      <th></th>\n",
       "      <th>question1</th>\n",
       "      <th>question2</th>\n",
       "    </tr>\n",
       "  </thead>\n",
       "  <tbody>\n",
       "    <tr>\n",
       "      <th>0</th>\n",
       "      <td>What is the best way to lose weight?</td>\n",
       "      <td>What is the best way to lose weight?</td>\n",
       "    </tr>\n",
       "    <tr>\n",
       "      <th>1</th>\n",
       "      <td>How can I build good habits?</td>\n",
       "      <td>How to improve communication skills?</td>\n",
       "    </tr>\n",
       "    <tr>\n",
       "      <th>2</th>\n",
       "      <td>What is the best way to save money?</td>\n",
       "      <td>How to start freelancing as a student?</td>\n",
       "    </tr>\n",
       "    <tr>\n",
       "      <th>3</th>\n",
       "      <td>How to start freelancing as a student?</td>\n",
       "      <td>What is Artificial Intelligence?</td>\n",
       "    </tr>\n",
       "    <tr>\n",
       "      <th>4</th>\n",
       "      <td>What are the symptoms of diabetes?</td>\n",
       "      <td>What is the future of electric vehicles?</td>\n",
       "    </tr>\n",
       "  </tbody>\n",
       "</table>\n",
       "</div>"
      ],
      "text/plain": [
       "                                question1  \\\n",
       "0    What is the best way to lose weight?   \n",
       "1            How can I build good habits?   \n",
       "2     What is the best way to save money?   \n",
       "3  How to start freelancing as a student?   \n",
       "4      What are the symptoms of diabetes?   \n",
       "\n",
       "                                  question2  \n",
       "0      What is the best way to lose weight?  \n",
       "1      How to improve communication skills?  \n",
       "2    How to start freelancing as a student?  \n",
       "3          What is Artificial Intelligence?  \n",
       "4  What is the future of electric vehicles?  "
      ]
     },
     "execution_count": 62,
     "metadata": {},
     "output_type": "execute_result"
    }
   ],
   "source": [
    "ques_df2 = df3[['question1','question2']]\n",
    "ques_df2.head()"
   ]
  },
  {
   "cell_type": "code",
   "execution_count": 63,
   "id": "bfb3fb4f-ab31-434a-98b8-4385c2ac84b4",
   "metadata": {
    "id": "bfb3fb4f-ab31-434a-98b8-4385c2ac84b4",
    "outputId": "47bf92a2-dca2-4e1b-d743-6c68d167e52a"
   },
   "outputs": [
    {
     "name": "stdout",
     "output_type": "stream",
     "text": [
      "(3000, 8)\n"
     ]
    },
    {
     "data": {
      "text/html": [
       "<div>\n",
       "<style scoped>\n",
       "    .dataframe tbody tr th:only-of-type {\n",
       "        vertical-align: middle;\n",
       "    }\n",
       "\n",
       "    .dataframe tbody tr th {\n",
       "        vertical-align: top;\n",
       "    }\n",
       "\n",
       "    .dataframe thead th {\n",
       "        text-align: right;\n",
       "    }\n",
       "</style>\n",
       "<table border=\"1\" class=\"dataframe\">\n",
       "  <thead>\n",
       "    <tr style=\"text-align: right;\">\n",
       "      <th></th>\n",
       "      <th>is_duplicate</th>\n",
       "      <th>q1_len</th>\n",
       "      <th>q2_len</th>\n",
       "      <th>q1_num_words</th>\n",
       "      <th>q2_num_words</th>\n",
       "      <th>word_common</th>\n",
       "      <th>word_total</th>\n",
       "      <th>word_share</th>\n",
       "    </tr>\n",
       "  </thead>\n",
       "  <tbody>\n",
       "    <tr>\n",
       "      <th>0</th>\n",
       "      <td>1</td>\n",
       "      <td>36</td>\n",
       "      <td>36</td>\n",
       "      <td>8</td>\n",
       "      <td>8</td>\n",
       "      <td>8</td>\n",
       "      <td>16</td>\n",
       "      <td>0.50</td>\n",
       "    </tr>\n",
       "    <tr>\n",
       "      <th>1</th>\n",
       "      <td>0</td>\n",
       "      <td>28</td>\n",
       "      <td>36</td>\n",
       "      <td>6</td>\n",
       "      <td>5</td>\n",
       "      <td>1</td>\n",
       "      <td>11</td>\n",
       "      <td>0.09</td>\n",
       "    </tr>\n",
       "    <tr>\n",
       "      <th>2</th>\n",
       "      <td>0</td>\n",
       "      <td>35</td>\n",
       "      <td>38</td>\n",
       "      <td>8</td>\n",
       "      <td>7</td>\n",
       "      <td>1</td>\n",
       "      <td>15</td>\n",
       "      <td>0.07</td>\n",
       "    </tr>\n",
       "    <tr>\n",
       "      <th>3</th>\n",
       "      <td>0</td>\n",
       "      <td>38</td>\n",
       "      <td>32</td>\n",
       "      <td>7</td>\n",
       "      <td>4</td>\n",
       "      <td>0</td>\n",
       "      <td>11</td>\n",
       "      <td>0.00</td>\n",
       "    </tr>\n",
       "    <tr>\n",
       "      <th>4</th>\n",
       "      <td>0</td>\n",
       "      <td>34</td>\n",
       "      <td>40</td>\n",
       "      <td>6</td>\n",
       "      <td>7</td>\n",
       "      <td>3</td>\n",
       "      <td>13</td>\n",
       "      <td>0.23</td>\n",
       "    </tr>\n",
       "  </tbody>\n",
       "</table>\n",
       "</div>"
      ],
      "text/plain": [
       "   is_duplicate  q1_len  q2_len  q1_num_words  q2_num_words  word_common  \\\n",
       "0             1      36      36             8             8            8   \n",
       "1             0      28      36             6             5            1   \n",
       "2             0      35      38             8             7            1   \n",
       "3             0      38      32             7             4            0   \n",
       "4             0      34      40             6             7            3   \n",
       "\n",
       "   word_total  word_share  \n",
       "0          16        0.50  \n",
       "1          11        0.09  \n",
       "2          15        0.07  \n",
       "3          11        0.00  \n",
       "4          13        0.23  "
      ]
     },
     "execution_count": 63,
     "metadata": {},
     "output_type": "execute_result"
    }
   ],
   "source": [
    "final_df = df3.drop(columns=['id','qid1','qid2','question1','question2'])\n",
    "print(final_df.shape)\n",
    "final_df.head()"
   ]
  },
  {
   "cell_type": "code",
   "execution_count": 64,
   "id": "0c0c8d42-c4de-4f53-a8b5-d0d521567267",
   "metadata": {
    "id": "0c0c8d42-c4de-4f53-a8b5-d0d521567267"
   },
   "outputs": [],
   "source": [
    "from sklearn.feature_extraction.text import CountVectorizer\n",
    "import numpy as np\n",
    "\n",
    "# Ensure there are no NaN values in the data\n",
    "ques_df2['question1'] = ques_df2['question1'].fillna(\"\")\n",
    "ques_df2['question2'] = ques_df2['question2'].fillna(\"\")\n",
    "\n",
    "# Assuming ques_df is a DataFrame with 'question1' and 'question2' columns\n",
    "questions2 = list(ques_df2['question1']) + list(ques_df2['question2'])\n",
    "\n",
    "# Initialize CountVectorizer with a limit on features\n",
    "cv = CountVectorizer(max_features=3000)\n",
    "\n",
    "# Fit and transform the merged text data\n",
    "features = cv.fit_transform(questions2).toarray()\n",
    "\n",
    "# Validate the split index\n",
    "split_index = len(ques_df2['question1'])\n",
    "assert features.shape[0] == 2 * split_index\n",
    "\n",
    "q1_arr, q2_arr = np.vsplit(features, [split_index])"
   ]
  },
  {
   "cell_type": "code",
   "execution_count": 65,
   "id": "86f06e47-5edc-40fc-96dc-acecfcc63f8e",
   "metadata": {
    "id": "86f06e47-5edc-40fc-96dc-acecfcc63f8e",
    "outputId": "7beec877-cd11-4e46-b095-0fefbc5eb375"
   },
   "outputs": [
    {
     "data": {
      "text/plain": [
       "(3000, 138)"
      ]
     },
     "execution_count": 65,
     "metadata": {},
     "output_type": "execute_result"
    }
   ],
   "source": [
    "temp_df1 = pd.DataFrame(q1_arr, index= ques_df2.index)\n",
    "temp_df2 = pd.DataFrame(q2_arr, index= ques_df2.index)\n",
    "temp_df = pd.concat([temp_df1, temp_df2], axis=1)\n",
    "temp_df.shape"
   ]
  },
  {
   "cell_type": "code",
   "execution_count": 66,
   "id": "c0627b6b-1e58-4deb-836b-64236094f5d3",
   "metadata": {
    "id": "c0627b6b-1e58-4deb-836b-64236094f5d3",
    "outputId": "33ef6546-b649-4e4b-e31d-28c55f77fd25"
   },
   "outputs": [
    {
     "name": "stdout",
     "output_type": "stream",
     "text": [
      "(3000, 146)\n"
     ]
    },
    {
     "data": {
      "text/html": [
       "<div>\n",
       "<style scoped>\n",
       "    .dataframe tbody tr th:only-of-type {\n",
       "        vertical-align: middle;\n",
       "    }\n",
       "\n",
       "    .dataframe tbody tr th {\n",
       "        vertical-align: top;\n",
       "    }\n",
       "\n",
       "    .dataframe thead th {\n",
       "        text-align: right;\n",
       "    }\n",
       "</style>\n",
       "<table border=\"1\" class=\"dataframe\">\n",
       "  <thead>\n",
       "    <tr style=\"text-align: right;\">\n",
       "      <th></th>\n",
       "      <th>is_duplicate</th>\n",
       "      <th>q1_len</th>\n",
       "      <th>q2_len</th>\n",
       "      <th>q1_num_words</th>\n",
       "      <th>q2_num_words</th>\n",
       "      <th>word_common</th>\n",
       "      <th>word_total</th>\n",
       "      <th>word_share</th>\n",
       "      <th>0</th>\n",
       "      <th>1</th>\n",
       "      <th>...</th>\n",
       "      <th>59</th>\n",
       "      <th>60</th>\n",
       "      <th>61</th>\n",
       "      <th>62</th>\n",
       "      <th>63</th>\n",
       "      <th>64</th>\n",
       "      <th>65</th>\n",
       "      <th>66</th>\n",
       "      <th>67</th>\n",
       "      <th>68</th>\n",
       "    </tr>\n",
       "  </thead>\n",
       "  <tbody>\n",
       "    <tr>\n",
       "      <th>0</th>\n",
       "      <td>1</td>\n",
       "      <td>36</td>\n",
       "      <td>36</td>\n",
       "      <td>8</td>\n",
       "      <td>8</td>\n",
       "      <td>8</td>\n",
       "      <td>16</td>\n",
       "      <td>0.50</td>\n",
       "      <td>0</td>\n",
       "      <td>0</td>\n",
       "      <td>...</td>\n",
       "      <td>0</td>\n",
       "      <td>1</td>\n",
       "      <td>0</td>\n",
       "      <td>0</td>\n",
       "      <td>1</td>\n",
       "      <td>1</td>\n",
       "      <td>1</td>\n",
       "      <td>0</td>\n",
       "      <td>0</td>\n",
       "      <td>0</td>\n",
       "    </tr>\n",
       "    <tr>\n",
       "      <th>1</th>\n",
       "      <td>0</td>\n",
       "      <td>28</td>\n",
       "      <td>36</td>\n",
       "      <td>6</td>\n",
       "      <td>5</td>\n",
       "      <td>1</td>\n",
       "      <td>11</td>\n",
       "      <td>0.09</td>\n",
       "      <td>0</td>\n",
       "      <td>0</td>\n",
       "      <td>...</td>\n",
       "      <td>0</td>\n",
       "      <td>1</td>\n",
       "      <td>0</td>\n",
       "      <td>0</td>\n",
       "      <td>0</td>\n",
       "      <td>0</td>\n",
       "      <td>0</td>\n",
       "      <td>0</td>\n",
       "      <td>0</td>\n",
       "      <td>0</td>\n",
       "    </tr>\n",
       "    <tr>\n",
       "      <th>2</th>\n",
       "      <td>0</td>\n",
       "      <td>35</td>\n",
       "      <td>38</td>\n",
       "      <td>8</td>\n",
       "      <td>7</td>\n",
       "      <td>1</td>\n",
       "      <td>15</td>\n",
       "      <td>0.07</td>\n",
       "      <td>0</td>\n",
       "      <td>0</td>\n",
       "      <td>...</td>\n",
       "      <td>0</td>\n",
       "      <td>1</td>\n",
       "      <td>0</td>\n",
       "      <td>0</td>\n",
       "      <td>0</td>\n",
       "      <td>0</td>\n",
       "      <td>0</td>\n",
       "      <td>0</td>\n",
       "      <td>0</td>\n",
       "      <td>0</td>\n",
       "    </tr>\n",
       "    <tr>\n",
       "      <th>3</th>\n",
       "      <td>0</td>\n",
       "      <td>38</td>\n",
       "      <td>32</td>\n",
       "      <td>7</td>\n",
       "      <td>4</td>\n",
       "      <td>0</td>\n",
       "      <td>11</td>\n",
       "      <td>0.00</td>\n",
       "      <td>0</td>\n",
       "      <td>0</td>\n",
       "      <td>...</td>\n",
       "      <td>0</td>\n",
       "      <td>0</td>\n",
       "      <td>0</td>\n",
       "      <td>0</td>\n",
       "      <td>0</td>\n",
       "      <td>0</td>\n",
       "      <td>1</td>\n",
       "      <td>0</td>\n",
       "      <td>0</td>\n",
       "      <td>0</td>\n",
       "    </tr>\n",
       "    <tr>\n",
       "      <th>4</th>\n",
       "      <td>0</td>\n",
       "      <td>34</td>\n",
       "      <td>40</td>\n",
       "      <td>6</td>\n",
       "      <td>7</td>\n",
       "      <td>3</td>\n",
       "      <td>13</td>\n",
       "      <td>0.23</td>\n",
       "      <td>0</td>\n",
       "      <td>0</td>\n",
       "      <td>...</td>\n",
       "      <td>0</td>\n",
       "      <td>0</td>\n",
       "      <td>0</td>\n",
       "      <td>1</td>\n",
       "      <td>0</td>\n",
       "      <td>0</td>\n",
       "      <td>1</td>\n",
       "      <td>0</td>\n",
       "      <td>0</td>\n",
       "      <td>0</td>\n",
       "    </tr>\n",
       "  </tbody>\n",
       "</table>\n",
       "<p>5 rows × 146 columns</p>\n",
       "</div>"
      ],
      "text/plain": [
       "   is_duplicate  q1_len  q2_len  q1_num_words  q2_num_words  word_common  \\\n",
       "0             1      36      36             8             8            8   \n",
       "1             0      28      36             6             5            1   \n",
       "2             0      35      38             8             7            1   \n",
       "3             0      38      32             7             4            0   \n",
       "4             0      34      40             6             7            3   \n",
       "\n",
       "   word_total  word_share  0  1  ...  59  60  61  62  63  64  65  66  67  68  \n",
       "0          16        0.50  0  0  ...   0   1   0   0   1   1   1   0   0   0  \n",
       "1          11        0.09  0  0  ...   0   1   0   0   0   0   0   0   0   0  \n",
       "2          15        0.07  0  0  ...   0   1   0   0   0   0   0   0   0   0  \n",
       "3          11        0.00  0  0  ...   0   0   0   0   0   0   1   0   0   0  \n",
       "4          13        0.23  0  0  ...   0   0   0   1   0   0   1   0   0   0  \n",
       "\n",
       "[5 rows x 146 columns]"
      ]
     },
     "execution_count": 66,
     "metadata": {},
     "output_type": "execute_result"
    }
   ],
   "source": [
    "final_df = pd.concat([final_df, temp_df], axis=1)\n",
    "print(final_df.shape)\n",
    "final_df.head()"
   ]
  },
  {
   "cell_type": "code",
   "execution_count": 67,
   "id": "20140b24-7851-4c3c-aa2c-a34276277780",
   "metadata": {
    "id": "20140b24-7851-4c3c-aa2c-a34276277780"
   },
   "outputs": [],
   "source": [
    "from sklearn.model_selection import train_test_split\n",
    "X_train,X_test,y_train,y_test = train_test_split(final_df.iloc[:,1:].values,final_df.iloc[:,0].values,test_size=0.2,random_state=1)"
   ]
  },
  {
   "cell_type": "code",
   "execution_count": 68,
   "id": "f43ba2cb-3439-494b-881e-9192a88f6194",
   "metadata": {
    "id": "f43ba2cb-3439-494b-881e-9192a88f6194",
    "outputId": "99dc8383-d4d5-4da7-dd76-0cf22c362a24"
   },
   "outputs": [
    {
     "data": {
      "text/plain": [
       "1.0"
      ]
     },
     "execution_count": 68,
     "metadata": {},
     "output_type": "execute_result"
    }
   ],
   "source": [
    "from sklearn.ensemble import RandomForestClassifier\n",
    "from sklearn.metrics import accuracy_score\n",
    "rf = RandomForestClassifier()\n",
    "rf.fit(X_train,y_train)\n",
    "y_pred = rf.predict(X_test)\n",
    "accuracy_score(y_test,y_pred)"
   ]
  },
  {
   "cell_type": "code",
   "execution_count": null,
   "id": "4d6d1fd8-32f8-4423-b955-90619b79308b",
   "metadata": {
    "id": "4d6d1fd8-32f8-4423-b955-90619b79308b",
    "outputId": "eb068e91-70e8-40f1-8e9c-a56e6854aef2"
   },
   "outputs": [
    {
     "data": {
      "text/plain": [
       "1.0"
      ]
     },
     "execution_count": 69,
     "metadata": {},
     "output_type": "execute_result"
    }
   ],
   "source": [
    "from xgboost import XGBClassifier\n",
    "xgb = XGBClassifier()\n",
    "xgb.fit(X_train,y_train)\n",
    "y_pred = xgb.predict(X_test)\n",
    "accuracy_score(y_test,y_pred)\n",
    "print(\"Project Submitted by nakul\")"
   ]
  },
  {
   "cell_type": "code",
   "execution_count": null,
   "id": "b41db277-8f51-4ba4-90a4-bceea9ac3caf",
   "metadata": {
    "id": "b41db277-8f51-4ba4-90a4-bceea9ac3caf"
   },
   "outputs": [],
   "source": []
  }
 ],
 "metadata": {
  "colab": {
   "provenance": []
  },
  "kernelspec": {
   "display_name": "Python 3 (ipykernel)",
   "language": "python",
   "name": "python3"
  },
  "language_info": {
   "codemirror_mode": {
    "name": "ipython",
    "version": 3
   },
   "file_extension": ".py",
   "mimetype": "text/x-python",
   "name": "python",
   "nbconvert_exporter": "python",
   "pygments_lexer": "ipython3",
   "version": "3.11.11"
  }
 },
 "nbformat": 4,
 "nbformat_minor": 5
}
